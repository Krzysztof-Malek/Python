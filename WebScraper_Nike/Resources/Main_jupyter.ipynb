{
 "cells": [
  {
   "cell_type": "code",
   "execution_count": 3,
   "metadata": {
    "collapsed": true
   },
   "outputs": [],
   "source": [
    "import pandas\n",
    "from bs4 import BeautifulSoup as BS\n",
    "import requests\n",
    "import cfscrape\n"
   ]
  },
  {
   "cell_type": "code",
   "execution_count": 111,
   "outputs": [],
   "source": [
    "base_url=\"https://warsawsneakerstore.com/menu/obuwie/meskie/nike\"\n",
    "r=requests.get(base_url)\n",
    "c=r.content\n",
    "base_soup=BS(c, \"html.parser\")\n",
    "base_all=base_soup.find_all(\"div\")\n",
    "#print(base_all)"
   ],
   "metadata": {
    "collapsed": false,
    "pycharm": {
     "name": "#%%\n"
    }
   }
  },
  {
   "cell_type": "code",
   "execution_count": 113,
   "outputs": [
    {
     "name": "stdout",
     "output_type": "stream",
     "text": [
      "<!DOCTYPE html>\n",
      "\n",
      "<!--[if lt IE 7]> <html class=\"no-js ie6 oldie\" lang=\"en-US\"> <![endif]-->\n",
      "<!--[if IE 7]>    <html class=\"no-js ie7 oldie\" lang=\"en-US\"> <![endif]-->\n",
      "<!--[if IE 8]>    <html class=\"no-js ie8 oldie\" lang=\"en-US\"> <![endif]-->\n",
      "<!--[if gt IE 8]><!--> <html class=\"no-js\" lang=\"en-US\"> <!--<![endif]-->\n",
      "<head>\n",
      "<title>Access denied | warsawsneakerstore.com used Cloudflare to restrict access</title>\n",
      "<meta charset=\"utf-8\"/>\n",
      "<meta content=\"text/html; charset=utf-8\" http-equiv=\"Content-Type\"/>\n",
      "<meta content=\"IE=Edge,chrome=1\" http-equiv=\"X-UA-Compatible\"/>\n",
      "<meta content=\"noindex, nofollow\" name=\"robots\"/>\n",
      "<meta content=\"width=device-width,initial-scale=1\" name=\"viewport\"/>\n",
      "<link href=\"/cdn-cgi/styles/main.css\" id=\"cf_styles-css\" media=\"screen,projection\" rel=\"stylesheet\" type=\"text/css\"/>\n",
      "<script type=\"text/javascript\">\n",
      "(function(){if(document.addEventListener&&window.XMLHttpRequest&&JSON&&JSON.stringify){var e=function(a){var c=document.getElementById(\"error-feedback-survey\"),d=document.getElementById(\"error-feedback-success\"),b=new XMLHttpRequest;a={event:\"feedback clicked\",properties:{errorCode:1006,helpful:a,version:1}};b.open(\"POST\",\"https://sparrow.cloudflare.com/api/v1/event\");b.setRequestHeader(\"Content-Type\",\"application/json\");b.setRequestHeader(\"Sparrow-Source-Key\",\"c771f0e4b54944bebf4261d44bd79a1e\");\n",
      "b.send(JSON.stringify(a));c.classList.add(\"feedback-hidden\");d.classList.remove(\"feedback-hidden\")};document.addEventListener(\"DOMContentLoaded\",function(){var a=document.getElementById(\"error-feedback\"),c=document.getElementById(\"feedback-button-yes\"),d=document.getElementById(\"feedback-button-no\");\"classList\"in a&&(a.classList.remove(\"feedback-hidden\"),c.addEventListener(\"click\",function(){e(!0)}),d.addEventListener(\"click\",function(){e(!1)}))})}})();\n",
      "</script>\n",
      "<script defer=\"\" src=\"https://api.radar.cloudflare.com/beacon.js\"></script>\n",
      "<script async=\"\" src=\"/cdn-cgi/bm/cv/669835187/api.js\"></script></head>\n",
      "<body>\n",
      "<div id=\"cf-wrapper\">\n",
      "<div class=\"cf-alert cf-alert-error cf-cookie-error hidden\" data-translate=\"enable_cookies\" id=\"cookie-alert\">Please enable cookies.</div>\n",
      "<div class=\"p-0\" id=\"cf-error-details\">\n",
      "<header class=\"mx-auto pt-10 lg:pt-6 lg:px-8 w-240 lg:w-full mb-15 antialiased\">\n",
      "<h1 class=\"inline-block md:block mr-2 md:mb-2 font-light text-60 md:text-3xl text-black-dark leading-tight\">\n",
      "<span data-translate=\"error\">Error</span>\n",
      "<span>1006</span>\n",
      "</h1>\n",
      "<span class=\"inline-block md:block heading-ray-id font-mono text-15 lg:text-sm lg:leading-relaxed\">Ray ID: 6e07265a2db4f290 •</span>\n",
      "<span class=\"inline-block md:block heading-ray-id font-mono text-15 lg:text-sm lg:leading-relaxed\">2022-02-20 10:46:12 UTC</span>\n",
      "<h2 class=\"text-gray-600 leading-1.3 text-3xl lg:text-2xl font-light\">Access denied</h2>\n",
      "</header>\n",
      "<section class=\"w-240 lg:w-full mx-auto mb-8 lg:px-8\">\n",
      "<div class=\"w-1/2 md:w-full\" id=\"what-happened-section\">\n",
      "<h2 class=\"text-3xl leading-tight font-normal mb-4 text-black-dark antialiased\" data-translate=\"what_happened\">What happened?</h2>\n",
      "<p>The owner of this website (warsawsneakerstore.com) has banned your IP address (109.95.201.90).</p>\n",
      "</div>\n",
      "</section>\n",
      "<div class=\"feedback-hidden py-8 text-center\" id=\"error-feedback\">\n",
      "<div id=\"error-feedback-survey\">\n",
      "Was this page helpful?\n",
      "<button class=\"border border-solid bg-white cf-button cursor-pointer ml-4 px-4 py-2 rounded\" id=\"feedback-button-yes\" type=\"button\">Yes</button>\n",
      "<button class=\"border border-solid bg-white cf-button cursor-pointer ml-4 px-4 py-2 rounded\" id=\"feedback-button-no\" type=\"button\">No</button>\n",
      "</div>\n",
      "<div class=\"feedback-success feedback-hidden\" id=\"error-feedback-success\">\n",
      "Thank you for your feedback!\n",
      "</div>\n",
      "</div>\n",
      "<div class=\"cf-error-footer cf-wrapper w-240 lg:w-full py-10 sm:py-4 sm:px-8 mx-auto text-center sm:text-left border-solid border-0 border-t border-gray-300\">\n",
      "<p class=\"text-13\">\n",
      "<span class=\"cf-footer-item sm:block sm:mb-1\">Cloudflare Ray ID: <strong class=\"font-semibold\">6e07265a2db4f290</strong></span>\n",
      "<span class=\"cf-footer-separator sm:hidden\">•</span>\n",
      "<span class=\"cf-footer-item sm:block sm:mb-1\"><span>Your IP</span>: 109.95.201.90</span>\n",
      "<span class=\"cf-footer-separator sm:hidden\">•</span>\n",
      "<span class=\"cf-footer-item sm:block sm:mb-1\"><span>Performance &amp; security by</span> <a href=\"https://www.cloudflare.com/5xx-error-landing\" id=\"brand_link\" rel=\"noopener noreferrer\" target=\"_blank\">Cloudflare</a></span>\n",
      "</p>\n",
      "</div>\n",
      "</div>\n",
      "</div>\n",
      "<script type=\"text/javascript\">\n",
      "  window._cf_translation = {};\n",
      "  \n",
      "  \n",
      "</script>\n",
      "<script type=\"text/javascript\">(function(){window['__CF$cv$params']={r:'6e07265a2db4f290',m:'VJXb3WmbbKNcqmRdasQSetW4WYKS9Ow1SAWgckjcD00-1645353972-0-Aeh92TXVk15Mo5nMUIhAZOb0eVh1pxI2dj2laV85kDTq29nebgD3nApH+M3Hu1cCkN9VTMPMjFXSPcAKEMZk8HqBvQGFbEFavjCN2vuQv+B3vrMXTk9LBov6qpucCpDixNHBGp/NjXTtvcM9IRwp7th2jFw2rb/j79mORZByYCNn',s:[0x993c462716,0x01c1abf8fd],}})();</script></body>\n",
      "</html>\n",
      "\n"
     ]
    }
   ],
   "source": [
    "#temp constant\n",
    "shoe_url=\"https://warsawsneakerstore.com/air-trainer-1-sp-dh7338-300.html\"\n",
    "shoe_list=[]\n",
    "shoe_row={}\n",
    "#Header to pass cloudflare protection of scraping\n",
    "headers = {\"User-Agent\":'Mozilla/5.0 (Windows NT 6.3; WOW64) AppleWebKit/537.36 (KHTML, like Gecko) Chrome/59.0.3071.115 Safari/537.36'}\n",
    "shoe_r=requests.get(shoe_url, headers=headers)\n",
    "shoe_c=shoe_r.content\n",
    "shoe_soup=BS(shoe_c, \"html.parser\")\n",
    "shoe_name=shoe_soup.find(\"div\",{\"class\":\"product__basic-info-wrap\", \"class\":\"product__basic-info-wrap--main\"})\n",
    "shoe_description=shoe_soup.find(\"div\",{\"class\":\"section__content section__content--description\"})\n",
    "print(shoe_soup)"
   ],
   "metadata": {
    "collapsed": false,
    "pycharm": {
     "name": "#%%\n"
    }
   }
  },
  {
   "cell_type": "code",
   "execution_count": 105,
   "outputs": [
    {
     "ename": "AttributeError",
     "evalue": "'NoneType' object has no attribute 'find'",
     "output_type": "error",
     "traceback": [
      "\u001B[1;31m---------------------------------------------------------------------------\u001B[0m",
      "\u001B[1;31mAttributeError\u001B[0m                            Traceback (most recent call last)",
      "Input \u001B[1;32mIn [105]\u001B[0m, in \u001B[0;36m<module>\u001B[1;34m\u001B[0m\n\u001B[1;32m----> 1\u001B[0m ate\u001B[38;5;241m=\u001B[39m\u001B[43mshoe_name\u001B[49m\u001B[38;5;241;43m.\u001B[39;49m\u001B[43mfind\u001B[49m(\u001B[38;5;124m\"\u001B[39m\u001B[38;5;124mh1\u001B[39m\u001B[38;5;124m\"\u001B[39m, {\u001B[38;5;124m\"\u001B[39m\u001B[38;5;124mclass\u001B[39m\u001B[38;5;124m\"\u001B[39m:\u001B[38;5;124m\"\u001B[39m\u001B[38;5;124mproduct__name\u001B[39m\u001B[38;5;124m\"\u001B[39m, \u001B[38;5;124m\"\u001B[39m\u001B[38;5;124mclass\u001B[39m\u001B[38;5;124m\"\u001B[39m:\u001B[38;5;124m\"\u001B[39m\u001B[38;5;124mproduct-name\u001B[39m\u001B[38;5;124m\"\u001B[39m})\u001B[38;5;241m.\u001B[39mtext\n\u001B[0;32m      2\u001B[0m \u001B[38;5;28mprint\u001B[39m(ate)\n\u001B[0;32m      3\u001B[0m shoe_row[\u001B[38;5;124m\"\u001B[39m\u001B[38;5;124mMark\u001B[39m\u001B[38;5;124m\"\u001B[39m]\u001B[38;5;241m=\u001B[39mate\u001B[38;5;241m.\u001B[39msplit(\u001B[38;5;124m\"\u001B[39m\u001B[38;5;124m \u001B[39m\u001B[38;5;124m\"\u001B[39m,\u001B[38;5;241m1\u001B[39m)[\u001B[38;5;241m0\u001B[39m]\n",
      "\u001B[1;31mAttributeError\u001B[0m: 'NoneType' object has no attribute 'find'"
     ]
    }
   ],
   "source": [
    "\n",
    "ate=shoe_name.find(\"h1\", {\"class\":\"product__name\", \"class\":\"product-name\"}).text\n",
    "print(ate)\n",
    "shoe_row[\"Mark\"]=ate.split(\" \",1)[0]\n",
    "print(ate)\n",
    "\n",
    "shoe_row[\"Mark\"]=None\n",
    "\n",
    "\n",
    "\n",
    "\n",
    "\n",
    "\n",
    "\n",
    "\n",
    "shoe_list.append(shoe_row)\n",
    "print(shoe_list)\n",
    "print(shoe_name)\n",
    "\n"
   ],
   "metadata": {
    "collapsed": false,
    "pycharm": {
     "name": "#%%\n"
    }
   }
  }
 ],
 "metadata": {
  "kernelspec": {
   "display_name": "Python 3",
   "language": "python",
   "name": "python3"
  },
  "language_info": {
   "codemirror_mode": {
    "name": "ipython",
    "version": 2
   },
   "file_extension": ".py",
   "mimetype": "text/x-python",
   "name": "python",
   "nbconvert_exporter": "python",
   "pygments_lexer": "ipython2",
   "version": "2.7.6"
  }
 },
 "nbformat": 4,
 "nbformat_minor": 0
}