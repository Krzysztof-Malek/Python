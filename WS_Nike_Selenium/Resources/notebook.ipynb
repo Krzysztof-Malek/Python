{
 "cells": [
  {
   "cell_type": "code",
   "execution_count": 1,
   "metadata": {
    "collapsed": true
   },
   "outputs": [],
   "source": [
    "import math\n",
    "import os\n",
    "import io\n",
    "import time\n",
    "import urllib\n",
    "import requests # request wysyłany do strony\n",
    "import shutil   # to save it locally\n",
    "import json\n",
    "import gspread\n",
    "import re   # Biblioteka do używania REGEX\n",
    "import pandas as pd #Biblioteka tworzenia tabel i plików csv\n",
    "from bs4 import BeautifulSoup as BS\n",
    "\n",
    "#Biblioteka pozwalająca ominąć wyzwalanie serwisów anti-bot\n",
    "import undetected_chromedriver as uc\n",
    "    #Google drive\n",
    "from pydrive.auth import GoogleAuth\n",
    "from pydrive.drive import GoogleDrive\n",
    "    #Biblioteka komend pydrive do obsługi google drive\n",
    "from pygdrive3 import service\n",
    "    #Poświadczenia użytkownika oauth2client\n",
    "from oauth2client.service_account import ServiceAccountCredentials\n",
    "from googleapiclient.discovery import build\n",
    "    #Podstawowa biblioteka obsługująca kartę przeglądarki\n",
    "from selenium import webdriver\n",
    "from selenium.webdriver.remote.webdriver import WebDriver\n",
    "from selenium.webdriver.common.by import By\n",
    "    #Narzędzie do wykonywania skryptów selenium (używam do otwierania nowej karty)\n",
    "from selenium.webdriver.common.action_chains import ActionChains\n",
    "    #EC jako sprawdzenie czy dany element jest/da się liknąć/itp. itd.\n",
    "from selenium.webdriver.support import expected_conditions as EC\n",
    "from selenium.webdriver.support.wait import WebDriverWait\n",
    "from selenium.webdriver.common.keys import Keys\n",
    "from selenium.webdriver.common.desired_capabilities import DesiredCapabilities"
   ]
  },
  {
   "cell_type": "code",
   "execution_count": 24,
   "outputs": [],
   "source": [
    "def manual_error_manager():\n",
    "    print(\"Some error\")\n",
    "    input(\"Press Enter to continue...\")\n",
    "    input(\"Press Enter to continue...\")\n",
    "\n",
    "CHROMEDRIVER_PATH = \"C:\\Program Files (x86)\\chromedriver.exe\"\n",
    "#driver = webdriver.Chrome(CHROMEDRIVER_PATH)\n",
    "#driver.get('https://warsawsneakerstore.com/air-trainer-1-sp-dh7338-300.html')\n",
    "\n",
    "\n",
    "driver_normal = uc.Chrome(use_subprocess=True)\n",
    "#driver.execute_script('return navigator.webdriver')\n",
    "\n",
    "#driver.get('https://warsawsneakerstore.com/air-trainer-1-sp-dh7338-300.html')\n",
    "#driver.execute_script('return navigator.webdriver')\n",
    "#driver.get('https://distilnetworks.com')\n",
    "\n",
    "options = webdriver.ChromeOptions()\n",
    "options.add_argument(\"start-maximized\")\n",
    "options.add_argument('--ignore-certificate-errors')\n",
    "options.add_argument('--incognito')\n",
    "#options.headless = True\n",
    "options.add_argument('--no-sandbox')\n",
    "options.add_argument('--disable-dev-shm-usage')\n",
    "driver = uc.Chrome(options=options)"
   ],
   "metadata": {
    "collapsed": false,
    "pycharm": {
     "name": "#%%\n"
    }
   }
  },
  {
   "cell_type": "code",
   "execution_count": null,
   "outputs": [],
   "source": [
    "driver_normal.get('https://solecollector.com/sd/06952/nike/nike-air-max')\n",
    "driver.get('https://warsawsneakerstore.com/products/obuwie-nike/categories=2&brands=2&sizetype=eu&sort=news&size=72')\n",
    "#driver.get('https://warsawsneakerstore.com/air-trainer-1-sp-dh7338-300.html')\n",
    "#driver.get('https://www.trivago.com/')"
   ],
   "metadata": {
    "collapsed": false,
    "pycharm": {
     "name": "#%%\n",
     "is_executing": true
    }
   }
  },
  {
   "cell_type": "code",
   "execution_count": 4,
   "outputs": [
    {
     "name": "stdout",
     "output_type": "stream",
     "text": [
      "<li class=\"product-listing__item\">\n",
      "<div class=\"listing-product\" data-id=\"197589\">\n",
      "<button class=\"button listing-product__add-to-favorite favorite-button\" data-remove-url=\"https://warsawsneakerstore.com/product/favorite/delete/197589\" data-sku=\"DJ6230-001\" data-url=\"https://warsawsneakerstore.com/product/favorite/add/197589\" title=\"Dodaj do ulubionych\" type=\"button\">\n",
      "<i class=\"icon-favorite\"></i>\n",
      "</button>\n",
      "<a class=\"listing-product__link\" href=\"https://warsawsneakerstore.com/buty-nike-offline-pack-lt-dj6230-001.html\" title=\"nike offline pack lt  (dj6230-001)\">\n",
      "<ul class=\"product__flags\">\n",
      "<li class=\"product__flag product__flag--new\">Nowość</li>\n",
      "</ul>\n",
      "<div class=\"listing-product__image-block lazy-block\">\n",
      "<img alt=\"nike offline pack lt  (dj6230-001)\" class=\"listing-product__image lazy entered loaded\" data-ll-status=\"loaded\" data-src=\"https://blob.sxv.pl/shops/media/wbsquare2/2021/nike/197589/nike-offline-pack-lt-dj6230-001-621385a06c6df.jpg\" height=\"293\" src=\"https://blob.sxv.pl/shops/media/wbsquare2/2021/nike/197589/nike-offline-pack-lt-dj6230-001-621385a06c6df.jpg\" title=\"nike offline pack lt  (dj6230-001)\" width=\"292\"/>\n",
      "<span class=\"lazy-block__loader\"></span>\n",
      "</div>\n",
      "<div class=\"listing-product__info\">\n",
      "<p class=\"listing-product__name\">Nike<br/><b>Offline Pack LT</b></p>\n",
      "<div class=\"listing-product__prices\">\n",
      "<div class=\"listing-product__price\">579.99 PLN</div>\n",
      "</div>\n",
      "</div>\n",
      "<div class=\"listing-product__hover\">\n",
      "<ul class=\"listing-product__sizes\">\n",
      "<li class=\"listing-product__size\">\n",
      "41.0\n",
      "</li>\n",
      "<li class=\"listing-product__size\">\n",
      "42.0\n",
      "</li>\n",
      "<li class=\"listing-product__size\">\n",
      "42.5\n",
      "</li>\n",
      "<li class=\"listing-product__size\">\n",
      "43.0\n",
      "</li>\n",
      "<li class=\"listing-product__size\">\n",
      "44.0\n",
      "</li>\n",
      "<li class=\"listing-product__size\">\n",
      "44.5\n",
      "</li>\n",
      "<li class=\"listing-product__size listing-product__size--count\">\n",
      "+1 rozmiar\n",
      "</li>\n",
      "</ul>\n",
      "</div>\n",
      "</a>\n",
      "</div>\n",
      "</li>\n"
     ]
    }
   ],
   "source": [
    "home_src=driver.page_source\n",
    "home_soup=BS(home_src, \"html.parser\")\n",
    "home_shoe_list=home_soup.find_all(\"li\",{\"class\":\"product-listing__item\"})\n",
    "#print(home_src)\n",
    "#for item in home_shoe_list:\n",
    "#    item.click()\n",
    "#print(home_shoe_list[0])"
   ],
   "metadata": {
    "collapsed": false,
    "pycharm": {
     "name": "#%%\n"
    }
   }
  },
  {
   "cell_type": "code",
   "execution_count": 103,
   "outputs": [],
   "source": [
    "shoe_src=driver.page_source\n",
    "shoe_soup=BS(shoe_src, \"html.parser\")\n",
    "shoe_name=shoe_soup.find(\"div\",{\"class\":\"product__basic-info-wrap\", \"class\":\"product__basic-info-wrap--main\"})\n",
    "shoe_description=shoe_soup.find(\"div\",{\"class\":\"section__content section__content--description\"})"
   ],
   "metadata": {
    "collapsed": false,
    "pycharm": {
     "name": "#%%\n"
    }
   }
  },
  {
   "cell_type": "code",
   "execution_count": 6,
   "outputs": [],
   "source": [
    "shoe_hrefs=[]\n",
    "#links = [elem.get_attribute('href') for elem in home_shoe_list]\n",
    "for link in home_shoe_list:\n",
    "    shoe_hrefs.append(link.find(\"a\",{\"class\":\"listing-product__link\"}).get_attribute_list('href'))"
   ],
   "metadata": {
    "collapsed": false,
    "pycharm": {
     "name": "#%%\n"
    }
   }
  },
  {
   "cell_type": "code",
   "execution_count": 8,
   "outputs": [],
   "source": [
    "te=driver.find_element(By.CLASS_NAME, \"listing-product__link\")"
   ],
   "metadata": {
    "collapsed": false,
    "pycharm": {
     "name": "#%%\n"
    }
   }
  },
  {
   "cell_type": "code",
   "execution_count": 7,
   "outputs": [
    {
     "name": "stdout",
     "output_type": "stream",
     "text": [
      "72\n",
      "72\n",
      "[['https://warsawsneakerstore.com/buty-nike-offline-pack-lt-dj6230-001.html'], ['https://warsawsneakerstore.com/nike-air-max-96-ii-blackblack-sport-red-white-dc9409-002.html'], ['https://warsawsneakerstore.com/nike-waffle-one-premium-rattansail-brown-kelp-black-dc8890-201.html'], ['https://warsawsneakerstore.com/nike-air-max-96-ii-maltblue-slate-taupe-haze-desert-sand-dc9409-200.html'], ['https://warsawsneakerstore.com/nike-air-max-96-ii-cool-greyblack-anthracite-white-dc9409-001.html'], ['https://warsawsneakerstore.com/nike-air-force-1-sculpt-dc3590-102.html'], ['https://warsawsneakerstore.com/air-trainer-1-sp-dh7338-300.html'], ['https://warsawsneakerstore.com/buty-nike-dunk-low-se-gs-e-dr0165-001.html'], ['https://warsawsneakerstore.com/buty-nike-air-force-1-sculpt-wmns-dc3590-101.html'], ['https://warsawsneakerstore.com/nike-dunk-low-dh9765-100.html'], ['https://warsawsneakerstore.com/buty-nike-air-force-1-low-gs-dm3177-100.html'], ['https://warsawsneakerstore.com/buty-nike-air-more-uptempo-gs-415082-009.html'], ['https://warsawsneakerstore.com/buty-nike-air-force-1-boot-dd0747-001.html'], ['https://warsawsneakerstore.com/buty-nike-air-max-97-se-dh1085-001.html'], ['https://warsawsneakerstore.com/buty-nike-air-force-1-07-lx-dc8744-300.html'], ['https://warsawsneakerstore.com/buty-nike-air-max-95-dr0146-001.html'], ['https://warsawsneakerstore.com/buty-nike-air-force-1-do6730-001.html'], ['https://warsawsneakerstore.com/buty-air-max-plus-iii-cd7005-002.html'], ['https://warsawsneakerstore.com/buty-nike-air-force-1-07-lx-dc8744-301.html'], ['https://warsawsneakerstore.com/buty-nike-air-force-1-dm9096-101-meskie-biale.html'], ['https://warsawsneakerstore.com/buty-nike-blazer-mid-77-jumbo-dq1471-100.html'], ['https://warsawsneakerstore.com/buty-nike-blazer-low-77-jumbo-dq1470-101-biale.html'], ['https://warsawsneakerstore.com/buty-nike-air-force-1-sculpt-dc3590-101.html'], ['https://warsawsneakerstore.com/buty-nike-air-more-uptempo-dm0017-001.html'], ['https://warsawsneakerstore.com/buty-nike-air-force-1-lv8-gs-da3093-001.html'], ['https://warsawsneakerstore.com/buty-air-force-1-lv8-gs-dm3322-100.html'], ['https://warsawsneakerstore.com/buty-nike-burrow-dc1456-001.html'], ['https://warsawsneakerstore.com/nike-be-do-win-sp-db3017-001.html'], ['https://warsawsneakerstore.com/buty-nike-air-max-terrascape-plus-dc6078-100.html'], ['https://warsawsneakerstore.com/spodnie-nike-burrow-cargo-dc1456-300.html'], ['https://warsawsneakerstore.com/nike-acg-air-mowabb-dm0840-200.html'], ['https://warsawsneakerstore.com/nike-acg-air-mowabb-dc9554-201.html'], ['https://warsawsneakerstore.com/buty-acg-air-mowabb-dm0840-001.html'], ['https://warsawsneakerstore.com/buty-nike-air-force-1-07-prm-cz1631-100.html'], ['https://warsawsneakerstore.com/nike-air-max-96-2-whitepurple-dawn-plum-fog-pink-glaze-dm1473-100.html'], ['https://warsawsneakerstore.com/nike-air-max-95-summit-whitegreen-noise-wheat-phantom-dh1632-100.html'], ['https://warsawsneakerstore.com/nike-air-presto-university-redblack-tour-yellow-ct3550-600.html'], ['https://warsawsneakerstore.com/nike-air-max-95-se-lt-photo-blueblack-roma-green-dh2718-400.html'], ['https://warsawsneakerstore.com/nike-air-force-1-07-lx-da8301-101.html'], ['https://warsawsneakerstore.com/buty-nike-w-dbreak-ck2351-001-damskie-czarne.html'], ['https://warsawsneakerstore.com/w-nike-air-max-96-ii-sailsail-light-bone-summit-white-dq0830-100.html'], ['https://warsawsneakerstore.com/nike-offcourt-slide-se-blackblack-black-dh2606-001.html'], ['https://warsawsneakerstore.com/buty-nike-free-run-trail-cw5814-400.html'], ['https://warsawsneakerstore.com/buty-nike-waffle-one-premium-dc8890-500.html'], ['https://warsawsneakerstore.com/buty-nike-air-force-1-mid-07-qs-jewel-dh5622-001.html'], ['https://warsawsneakerstore.com/buty-nike-air-force-1-mid-07-qs-jewel-dh5622-100.html'], ['https://warsawsneakerstore.com/buty-nike-be-do-win-sp-dr6694-400.html'], ['https://warsawsneakerstore.com/buty-nike-free-run-2-537732-004.html'], ['https://warsawsneakerstore.com/nike-air-max-goaterra-20-cargo-khakicargo-khaki-dd5016-300.html'], ['https://warsawsneakerstore.com/buty-nike-lahar-low-db9953-800.html'], ['https://warsawsneakerstore.com/buty-nike-air-presto-ct3550-800.html'], ['https://warsawsneakerstore.com/buty-nike-air-force-1-fontanka-da7024-700.html'], ['https://warsawsneakerstore.com/buty-nike-air-huarache-le-dh8143-200.html'], ['https://warsawsneakerstore.com/buty-nike-free-run-2-dh8853-100.html'], ['https://warsawsneakerstore.com/buty-nike-air-force-1-fontanka-da7024-101.html'], ['https://warsawsneakerstore.com/buty-nike-air-force-1-fontanka-wmns-da7024-600.html'], ['https://warsawsneakerstore.com/buty-nike-air-force-1-07-prm-dj2536-900.html'], ['https://warsawsneakerstore.com/buty-nike-free-run-2-537732-013.html'], ['https://warsawsneakerstore.com/buty-nike-air-force-1-07-lx-da8482-100.html'], ['https://warsawsneakerstore.com/buty-nike-dunk-hi-rebel-dh3718-100.html'], ['https://warsawsneakerstore.com/buty-nike-acg-air-mowabb-dc9554-500.html'], ['https://warsawsneakerstore.com/buty-nike-acg-air-mowabb-dc9554-200.html'], ['https://warsawsneakerstore.com/buty-nike-lahar-low-wmns-db9953-201.html'], ['https://warsawsneakerstore.com/buty-nike-air-force-1-dm9089-001.html'], ['https://warsawsneakerstore.com/buty-nike-af1-crater-flyknit-gs-dh3375-002.html'], ['https://warsawsneakerstore.com/buty-nike-daybreak-ck2351-101.html'], ['https://warsawsneakerstore.com/buty-nike-w-internationalist-at0075-001-damskie-czarne.html'], ['https://warsawsneakerstore.com/buty-nike-air-max-95-qs-dh9792-100.html'], ['https://warsawsneakerstore.com/buty-nike-overbreak-dc3041-001.html'], ['https://warsawsneakerstore.com/buty-nike-air-max-pre-day-lx-dc5330-300.html'], ['https://warsawsneakerstore.com/buty-nike-air-force-1-dm9088-001.html'], ['https://warsawsneakerstore.com/buty-nike-air-more-uptempo-96-921948-003.html']]\n"
     ]
    }
   ],
   "source": [
    "print(len(home_shoe_list))\n",
    "print(len(shoe_hrefs))\n",
    "print(shoe_hrefs)"
   ],
   "metadata": {
    "collapsed": false,
    "pycharm": {
     "name": "#%%\n"
    }
   }
  },
  {
   "cell_type": "code",
   "execution_count": 9,
   "outputs": [],
   "source": [
    "te.click()"
   ],
   "metadata": {
    "collapsed": false,
    "pycharm": {
     "name": "#%%\n"
    }
   }
  },
  {
   "cell_type": "code",
   "execution_count": 10,
   "outputs": [],
   "source": [
    "driver.back()"
   ],
   "metadata": {
    "collapsed": false,
    "pycharm": {
     "name": "#%%\n"
    }
   }
  },
  {
   "cell_type": "code",
   "execution_count": 13,
   "outputs": [
    {
     "name": "stdout",
     "output_type": "stream",
     "text": [
      "['https://warsawsneakerstore.com/buty-nike-air-force-1-low-gs-dm3177-100.html']\n"
     ]
    }
   ],
   "source": [
    "print(shoe_hrefs[10])"
   ],
   "metadata": {
    "collapsed": false,
    "pycharm": {
     "name": "#%%\n"
    }
   }
  },
  {
   "cell_type": "code",
   "execution_count": 20,
   "outputs": [
    {
     "ename": "KeyboardInterrupt",
     "evalue": "",
     "output_type": "error",
     "traceback": [
      "\u001B[1;31m---------------------------------------------------------------------------\u001B[0m",
      "\u001B[1;31mKeyboardInterrupt\u001B[0m                         Traceback (most recent call last)",
      "Input \u001B[1;32mIn [20]\u001B[0m, in \u001B[0;36m<module>\u001B[1;34m\u001B[0m\n\u001B[0;32m      1\u001B[0m \u001B[38;5;66;03m#type(shoe_hrefs[10][0])\u001B[39;00m\n\u001B[0;32m      2\u001B[0m \u001B[38;5;28;01mfor\u001B[39;00m link \u001B[38;5;129;01min\u001B[39;00m shoe_hrefs:\n\u001B[1;32m----> 3\u001B[0m     \u001B[43mdriver\u001B[49m\u001B[38;5;241;43m.\u001B[39;49m\u001B[43mget\u001B[49m\u001B[43m(\u001B[49m\u001B[43mlink\u001B[49m\u001B[43m[\u001B[49m\u001B[38;5;241;43m0\u001B[39;49m\u001B[43m]\u001B[49m\u001B[43m)\u001B[49m\n\u001B[0;32m      4\u001B[0m     time\u001B[38;5;241m.\u001B[39msleep(\u001B[38;5;241m5\u001B[39m)\n",
      "File \u001B[1;32mC:\\Python310\\lib\\site-packages\\undetected_chromedriver\\__init__.py:498\u001B[0m, in \u001B[0;36mChrome.get\u001B[1;34m(self, url)\u001B[0m\n\u001B[0;32m    496\u001B[0m \u001B[38;5;28;01mif\u001B[39;00m \u001B[38;5;28mself\u001B[39m\u001B[38;5;241m.\u001B[39m_get_cdc_props():\n\u001B[0;32m    497\u001B[0m     \u001B[38;5;28mself\u001B[39m\u001B[38;5;241m.\u001B[39m_hook_remove_cdc_props()\n\u001B[1;32m--> 498\u001B[0m \u001B[38;5;28;01mreturn\u001B[39;00m \u001B[38;5;28;43msuper\u001B[39;49m\u001B[43m(\u001B[49m\u001B[43m)\u001B[49m\u001B[38;5;241;43m.\u001B[39;49m\u001B[43mget\u001B[49m\u001B[43m(\u001B[49m\u001B[43murl\u001B[49m\u001B[43m)\u001B[49m\n",
      "File \u001B[1;32mC:\\Python310\\lib\\site-packages\\selenium\\webdriver\\remote\\webdriver.py:430\u001B[0m, in \u001B[0;36mWebDriver.get\u001B[1;34m(self, url)\u001B[0m\n\u001B[0;32m    426\u001B[0m \u001B[38;5;28;01mdef\u001B[39;00m \u001B[38;5;21mget\u001B[39m(\u001B[38;5;28mself\u001B[39m, url: \u001B[38;5;28mstr\u001B[39m) \u001B[38;5;241m-\u001B[39m\u001B[38;5;241m>\u001B[39m \u001B[38;5;28;01mNone\u001B[39;00m:\n\u001B[0;32m    427\u001B[0m     \u001B[38;5;124;03m\"\"\"\u001B[39;00m\n\u001B[0;32m    428\u001B[0m \u001B[38;5;124;03m    Loads a web page in the current browser session.\u001B[39;00m\n\u001B[0;32m    429\u001B[0m \u001B[38;5;124;03m    \"\"\"\u001B[39;00m\n\u001B[1;32m--> 430\u001B[0m     \u001B[38;5;28;43mself\u001B[39;49m\u001B[38;5;241;43m.\u001B[39;49m\u001B[43mexecute\u001B[49m\u001B[43m(\u001B[49m\u001B[43mCommand\u001B[49m\u001B[38;5;241;43m.\u001B[39;49m\u001B[43mGET\u001B[49m\u001B[43m,\u001B[49m\u001B[43m \u001B[49m\u001B[43m{\u001B[49m\u001B[38;5;124;43m'\u001B[39;49m\u001B[38;5;124;43murl\u001B[39;49m\u001B[38;5;124;43m'\u001B[39;49m\u001B[43m:\u001B[49m\u001B[43m \u001B[49m\u001B[43murl\u001B[49m\u001B[43m}\u001B[49m\u001B[43m)\u001B[49m\n",
      "File \u001B[1;32mC:\\Python310\\lib\\site-packages\\selenium\\webdriver\\remote\\webdriver.py:416\u001B[0m, in \u001B[0;36mWebDriver.execute\u001B[1;34m(self, driver_command, params)\u001B[0m\n\u001B[0;32m    413\u001B[0m         params[\u001B[38;5;124m'\u001B[39m\u001B[38;5;124msessionId\u001B[39m\u001B[38;5;124m'\u001B[39m] \u001B[38;5;241m=\u001B[39m \u001B[38;5;28mself\u001B[39m\u001B[38;5;241m.\u001B[39msession_id\n\u001B[0;32m    415\u001B[0m params \u001B[38;5;241m=\u001B[39m \u001B[38;5;28mself\u001B[39m\u001B[38;5;241m.\u001B[39m_wrap_value(params)\n\u001B[1;32m--> 416\u001B[0m response \u001B[38;5;241m=\u001B[39m \u001B[38;5;28;43mself\u001B[39;49m\u001B[38;5;241;43m.\u001B[39;49m\u001B[43mcommand_executor\u001B[49m\u001B[38;5;241;43m.\u001B[39;49m\u001B[43mexecute\u001B[49m\u001B[43m(\u001B[49m\u001B[43mdriver_command\u001B[49m\u001B[43m,\u001B[49m\u001B[43m \u001B[49m\u001B[43mparams\u001B[49m\u001B[43m)\u001B[49m\n\u001B[0;32m    417\u001B[0m \u001B[38;5;28;01mif\u001B[39;00m response:\n\u001B[0;32m    418\u001B[0m     \u001B[38;5;28mself\u001B[39m\u001B[38;5;241m.\u001B[39merror_handler\u001B[38;5;241m.\u001B[39mcheck_response(response)\n",
      "File \u001B[1;32mC:\\Python310\\lib\\site-packages\\selenium\\webdriver\\remote\\remote_connection.py:398\u001B[0m, in \u001B[0;36mRemoteConnection.execute\u001B[1;34m(self, command, params)\u001B[0m\n\u001B[0;32m    396\u001B[0m data \u001B[38;5;241m=\u001B[39m utils\u001B[38;5;241m.\u001B[39mdump_json(params)\n\u001B[0;32m    397\u001B[0m url \u001B[38;5;241m=\u001B[39m \u001B[38;5;124mf\u001B[39m\u001B[38;5;124m\"\u001B[39m\u001B[38;5;132;01m{\u001B[39;00m\u001B[38;5;28mself\u001B[39m\u001B[38;5;241m.\u001B[39m_url\u001B[38;5;132;01m}\u001B[39;00m\u001B[38;5;132;01m{\u001B[39;00mpath\u001B[38;5;132;01m}\u001B[39;00m\u001B[38;5;124m\"\u001B[39m\n\u001B[1;32m--> 398\u001B[0m \u001B[38;5;28;01mreturn\u001B[39;00m \u001B[38;5;28;43mself\u001B[39;49m\u001B[38;5;241;43m.\u001B[39;49m\u001B[43m_request\u001B[49m\u001B[43m(\u001B[49m\u001B[43mcommand_info\u001B[49m\u001B[43m[\u001B[49m\u001B[38;5;241;43m0\u001B[39;49m\u001B[43m]\u001B[49m\u001B[43m,\u001B[49m\u001B[43m \u001B[49m\u001B[43murl\u001B[49m\u001B[43m,\u001B[49m\u001B[43m \u001B[49m\u001B[43mbody\u001B[49m\u001B[38;5;241;43m=\u001B[39;49m\u001B[43mdata\u001B[49m\u001B[43m)\u001B[49m\n",
      "File \u001B[1;32mC:\\Python310\\lib\\site-packages\\selenium\\webdriver\\remote\\remote_connection.py:420\u001B[0m, in \u001B[0;36mRemoteConnection._request\u001B[1;34m(self, method, url, body)\u001B[0m\n\u001B[0;32m    417\u001B[0m     body \u001B[38;5;241m=\u001B[39m \u001B[38;5;28;01mNone\u001B[39;00m\n\u001B[0;32m    419\u001B[0m \u001B[38;5;28;01mif\u001B[39;00m \u001B[38;5;28mself\u001B[39m\u001B[38;5;241m.\u001B[39mkeep_alive:\n\u001B[1;32m--> 420\u001B[0m     resp \u001B[38;5;241m=\u001B[39m \u001B[38;5;28;43mself\u001B[39;49m\u001B[38;5;241;43m.\u001B[39;49m\u001B[43m_conn\u001B[49m\u001B[38;5;241;43m.\u001B[39;49m\u001B[43mrequest\u001B[49m\u001B[43m(\u001B[49m\u001B[43mmethod\u001B[49m\u001B[43m,\u001B[49m\u001B[43m \u001B[49m\u001B[43murl\u001B[49m\u001B[43m,\u001B[49m\u001B[43m \u001B[49m\u001B[43mbody\u001B[49m\u001B[38;5;241;43m=\u001B[39;49m\u001B[43mbody\u001B[49m\u001B[43m,\u001B[49m\u001B[43m \u001B[49m\u001B[43mheaders\u001B[49m\u001B[38;5;241;43m=\u001B[39;49m\u001B[43mheaders\u001B[49m\u001B[43m)\u001B[49m\n\u001B[0;32m    421\u001B[0m     statuscode \u001B[38;5;241m=\u001B[39m resp\u001B[38;5;241m.\u001B[39mstatus\n\u001B[0;32m    422\u001B[0m \u001B[38;5;28;01melse\u001B[39;00m:\n",
      "File \u001B[1;32mC:\\Python310\\lib\\site-packages\\urllib3\\request.py:78\u001B[0m, in \u001B[0;36mRequestMethods.request\u001B[1;34m(self, method, url, fields, headers, **urlopen_kw)\u001B[0m\n\u001B[0;32m     74\u001B[0m     \u001B[38;5;28;01mreturn\u001B[39;00m \u001B[38;5;28mself\u001B[39m\u001B[38;5;241m.\u001B[39mrequest_encode_url(\n\u001B[0;32m     75\u001B[0m         method, url, fields\u001B[38;5;241m=\u001B[39mfields, headers\u001B[38;5;241m=\u001B[39mheaders, \u001B[38;5;241m*\u001B[39m\u001B[38;5;241m*\u001B[39murlopen_kw\n\u001B[0;32m     76\u001B[0m     )\n\u001B[0;32m     77\u001B[0m \u001B[38;5;28;01melse\u001B[39;00m:\n\u001B[1;32m---> 78\u001B[0m     \u001B[38;5;28;01mreturn\u001B[39;00m \u001B[38;5;28mself\u001B[39m\u001B[38;5;241m.\u001B[39mrequest_encode_body(\n\u001B[0;32m     79\u001B[0m         method, url, fields\u001B[38;5;241m=\u001B[39mfields, headers\u001B[38;5;241m=\u001B[39mheaders, \u001B[38;5;241m*\u001B[39m\u001B[38;5;241m*\u001B[39murlopen_kw\n\u001B[0;32m     80\u001B[0m     )\n",
      "File \u001B[1;32mC:\\Python310\\lib\\site-packages\\urllib3\\request.py:170\u001B[0m, in \u001B[0;36mRequestMethods.request_encode_body\u001B[1;34m(self, method, url, fields, headers, encode_multipart, multipart_boundary, **urlopen_kw)\u001B[0m\n\u001B[0;32m    167\u001B[0m extra_kw[\u001B[38;5;124m\"\u001B[39m\u001B[38;5;124mheaders\u001B[39m\u001B[38;5;124m\"\u001B[39m]\u001B[38;5;241m.\u001B[39mupdate(headers)\n\u001B[0;32m    168\u001B[0m extra_kw\u001B[38;5;241m.\u001B[39mupdate(urlopen_kw)\n\u001B[1;32m--> 170\u001B[0m \u001B[38;5;28;01mreturn\u001B[39;00m \u001B[38;5;28mself\u001B[39m\u001B[38;5;241m.\u001B[39murlopen(method, url, \u001B[38;5;241m*\u001B[39m\u001B[38;5;241m*\u001B[39mextra_kw)\n",
      "File \u001B[1;32mC:\\Python310\\lib\\site-packages\\urllib3\\poolmanager.py:375\u001B[0m, in \u001B[0;36mPoolManager.urlopen\u001B[1;34m(self, method, url, redirect, **kw)\u001B[0m\n\u001B[0;32m    373\u001B[0m     response \u001B[38;5;241m=\u001B[39m conn\u001B[38;5;241m.\u001B[39murlopen(method, url, \u001B[38;5;241m*\u001B[39m\u001B[38;5;241m*\u001B[39mkw)\n\u001B[0;32m    374\u001B[0m \u001B[38;5;28;01melse\u001B[39;00m:\n\u001B[1;32m--> 375\u001B[0m     response \u001B[38;5;241m=\u001B[39m conn\u001B[38;5;241m.\u001B[39murlopen(method, u\u001B[38;5;241m.\u001B[39mrequest_uri, \u001B[38;5;241m*\u001B[39m\u001B[38;5;241m*\u001B[39mkw)\n\u001B[0;32m    377\u001B[0m redirect_location \u001B[38;5;241m=\u001B[39m redirect \u001B[38;5;129;01mand\u001B[39;00m response\u001B[38;5;241m.\u001B[39mget_redirect_location()\n\u001B[0;32m    378\u001B[0m \u001B[38;5;28;01mif\u001B[39;00m \u001B[38;5;129;01mnot\u001B[39;00m redirect_location:\n",
      "File \u001B[1;32mC:\\Python310\\lib\\site-packages\\urllib3\\connectionpool.py:703\u001B[0m, in \u001B[0;36mHTTPConnectionPool.urlopen\u001B[1;34m(self, method, url, body, headers, retries, redirect, assert_same_host, timeout, pool_timeout, release_conn, chunked, body_pos, **response_kw)\u001B[0m\n\u001B[0;32m    700\u001B[0m     \u001B[38;5;28mself\u001B[39m\u001B[38;5;241m.\u001B[39m_prepare_proxy(conn)\n\u001B[0;32m    702\u001B[0m \u001B[38;5;66;03m# Make the request on the httplib connection object.\u001B[39;00m\n\u001B[1;32m--> 703\u001B[0m httplib_response \u001B[38;5;241m=\u001B[39m \u001B[38;5;28;43mself\u001B[39;49m\u001B[38;5;241;43m.\u001B[39;49m\u001B[43m_make_request\u001B[49m\u001B[43m(\u001B[49m\n\u001B[0;32m    704\u001B[0m \u001B[43m    \u001B[49m\u001B[43mconn\u001B[49m\u001B[43m,\u001B[49m\n\u001B[0;32m    705\u001B[0m \u001B[43m    \u001B[49m\u001B[43mmethod\u001B[49m\u001B[43m,\u001B[49m\n\u001B[0;32m    706\u001B[0m \u001B[43m    \u001B[49m\u001B[43murl\u001B[49m\u001B[43m,\u001B[49m\n\u001B[0;32m    707\u001B[0m \u001B[43m    \u001B[49m\u001B[43mtimeout\u001B[49m\u001B[38;5;241;43m=\u001B[39;49m\u001B[43mtimeout_obj\u001B[49m\u001B[43m,\u001B[49m\n\u001B[0;32m    708\u001B[0m \u001B[43m    \u001B[49m\u001B[43mbody\u001B[49m\u001B[38;5;241;43m=\u001B[39;49m\u001B[43mbody\u001B[49m\u001B[43m,\u001B[49m\n\u001B[0;32m    709\u001B[0m \u001B[43m    \u001B[49m\u001B[43mheaders\u001B[49m\u001B[38;5;241;43m=\u001B[39;49m\u001B[43mheaders\u001B[49m\u001B[43m,\u001B[49m\n\u001B[0;32m    710\u001B[0m \u001B[43m    \u001B[49m\u001B[43mchunked\u001B[49m\u001B[38;5;241;43m=\u001B[39;49m\u001B[43mchunked\u001B[49m\u001B[43m,\u001B[49m\n\u001B[0;32m    711\u001B[0m \u001B[43m\u001B[49m\u001B[43m)\u001B[49m\n\u001B[0;32m    713\u001B[0m \u001B[38;5;66;03m# If we're going to release the connection in ``finally:``, then\u001B[39;00m\n\u001B[0;32m    714\u001B[0m \u001B[38;5;66;03m# the response doesn't need to know about the connection. Otherwise\u001B[39;00m\n\u001B[0;32m    715\u001B[0m \u001B[38;5;66;03m# it will also try to release it and we'll have a double-release\u001B[39;00m\n\u001B[0;32m    716\u001B[0m \u001B[38;5;66;03m# mess.\u001B[39;00m\n\u001B[0;32m    717\u001B[0m response_conn \u001B[38;5;241m=\u001B[39m conn \u001B[38;5;28;01mif\u001B[39;00m \u001B[38;5;129;01mnot\u001B[39;00m release_conn \u001B[38;5;28;01melse\u001B[39;00m \u001B[38;5;28;01mNone\u001B[39;00m\n",
      "File \u001B[1;32mC:\\Python310\\lib\\site-packages\\urllib3\\connectionpool.py:449\u001B[0m, in \u001B[0;36mHTTPConnectionPool._make_request\u001B[1;34m(self, conn, method, url, timeout, chunked, **httplib_request_kw)\u001B[0m\n\u001B[0;32m    444\u001B[0m             httplib_response \u001B[38;5;241m=\u001B[39m conn\u001B[38;5;241m.\u001B[39mgetresponse()\n\u001B[0;32m    445\u001B[0m         \u001B[38;5;28;01mexcept\u001B[39;00m \u001B[38;5;167;01mBaseException\u001B[39;00m \u001B[38;5;28;01mas\u001B[39;00m e:\n\u001B[0;32m    446\u001B[0m             \u001B[38;5;66;03m# Remove the TypeError from the exception chain in\u001B[39;00m\n\u001B[0;32m    447\u001B[0m             \u001B[38;5;66;03m# Python 3 (including for exceptions like SystemExit).\u001B[39;00m\n\u001B[0;32m    448\u001B[0m             \u001B[38;5;66;03m# Otherwise it looks like a bug in the code.\u001B[39;00m\n\u001B[1;32m--> 449\u001B[0m             \u001B[43msix\u001B[49m\u001B[38;5;241;43m.\u001B[39;49m\u001B[43mraise_from\u001B[49m\u001B[43m(\u001B[49m\u001B[43me\u001B[49m\u001B[43m,\u001B[49m\u001B[43m \u001B[49m\u001B[38;5;28;43;01mNone\u001B[39;49;00m\u001B[43m)\u001B[49m\n\u001B[0;32m    450\u001B[0m \u001B[38;5;28;01mexcept\u001B[39;00m (SocketTimeout, BaseSSLError, SocketError) \u001B[38;5;28;01mas\u001B[39;00m e:\n\u001B[0;32m    451\u001B[0m     \u001B[38;5;28mself\u001B[39m\u001B[38;5;241m.\u001B[39m_raise_timeout(err\u001B[38;5;241m=\u001B[39me, url\u001B[38;5;241m=\u001B[39murl, timeout_value\u001B[38;5;241m=\u001B[39mread_timeout)\n",
      "File \u001B[1;32m<string>:3\u001B[0m, in \u001B[0;36mraise_from\u001B[1;34m(value, from_value)\u001B[0m\n",
      "File \u001B[1;32mC:\\Python310\\lib\\site-packages\\urllib3\\connectionpool.py:444\u001B[0m, in \u001B[0;36mHTTPConnectionPool._make_request\u001B[1;34m(self, conn, method, url, timeout, chunked, **httplib_request_kw)\u001B[0m\n\u001B[0;32m    441\u001B[0m \u001B[38;5;28;01mexcept\u001B[39;00m \u001B[38;5;167;01mTypeError\u001B[39;00m:\n\u001B[0;32m    442\u001B[0m     \u001B[38;5;66;03m# Python 3\u001B[39;00m\n\u001B[0;32m    443\u001B[0m     \u001B[38;5;28;01mtry\u001B[39;00m:\n\u001B[1;32m--> 444\u001B[0m         httplib_response \u001B[38;5;241m=\u001B[39m \u001B[43mconn\u001B[49m\u001B[38;5;241;43m.\u001B[39;49m\u001B[43mgetresponse\u001B[49m\u001B[43m(\u001B[49m\u001B[43m)\u001B[49m\n\u001B[0;32m    445\u001B[0m     \u001B[38;5;28;01mexcept\u001B[39;00m \u001B[38;5;167;01mBaseException\u001B[39;00m \u001B[38;5;28;01mas\u001B[39;00m e:\n\u001B[0;32m    446\u001B[0m         \u001B[38;5;66;03m# Remove the TypeError from the exception chain in\u001B[39;00m\n\u001B[0;32m    447\u001B[0m         \u001B[38;5;66;03m# Python 3 (including for exceptions like SystemExit).\u001B[39;00m\n\u001B[0;32m    448\u001B[0m         \u001B[38;5;66;03m# Otherwise it looks like a bug in the code.\u001B[39;00m\n\u001B[0;32m    449\u001B[0m         six\u001B[38;5;241m.\u001B[39mraise_from(e, \u001B[38;5;28;01mNone\u001B[39;00m)\n",
      "File \u001B[1;32mC:\\Python310\\lib\\http\\client.py:1374\u001B[0m, in \u001B[0;36mHTTPConnection.getresponse\u001B[1;34m(self)\u001B[0m\n\u001B[0;32m   1372\u001B[0m \u001B[38;5;28;01mtry\u001B[39;00m:\n\u001B[0;32m   1373\u001B[0m     \u001B[38;5;28;01mtry\u001B[39;00m:\n\u001B[1;32m-> 1374\u001B[0m         \u001B[43mresponse\u001B[49m\u001B[38;5;241;43m.\u001B[39;49m\u001B[43mbegin\u001B[49m\u001B[43m(\u001B[49m\u001B[43m)\u001B[49m\n\u001B[0;32m   1375\u001B[0m     \u001B[38;5;28;01mexcept\u001B[39;00m \u001B[38;5;167;01mConnectionError\u001B[39;00m:\n\u001B[0;32m   1376\u001B[0m         \u001B[38;5;28mself\u001B[39m\u001B[38;5;241m.\u001B[39mclose()\n",
      "File \u001B[1;32mC:\\Python310\\lib\\http\\client.py:318\u001B[0m, in \u001B[0;36mHTTPResponse.begin\u001B[1;34m(self)\u001B[0m\n\u001B[0;32m    316\u001B[0m \u001B[38;5;66;03m# read until we get a non-100 response\u001B[39;00m\n\u001B[0;32m    317\u001B[0m \u001B[38;5;28;01mwhile\u001B[39;00m \u001B[38;5;28;01mTrue\u001B[39;00m:\n\u001B[1;32m--> 318\u001B[0m     version, status, reason \u001B[38;5;241m=\u001B[39m \u001B[38;5;28;43mself\u001B[39;49m\u001B[38;5;241;43m.\u001B[39;49m\u001B[43m_read_status\u001B[49m\u001B[43m(\u001B[49m\u001B[43m)\u001B[49m\n\u001B[0;32m    319\u001B[0m     \u001B[38;5;28;01mif\u001B[39;00m status \u001B[38;5;241m!=\u001B[39m CONTINUE:\n\u001B[0;32m    320\u001B[0m         \u001B[38;5;28;01mbreak\u001B[39;00m\n",
      "File \u001B[1;32mC:\\Python310\\lib\\http\\client.py:279\u001B[0m, in \u001B[0;36mHTTPResponse._read_status\u001B[1;34m(self)\u001B[0m\n\u001B[0;32m    278\u001B[0m \u001B[38;5;28;01mdef\u001B[39;00m \u001B[38;5;21m_read_status\u001B[39m(\u001B[38;5;28mself\u001B[39m):\n\u001B[1;32m--> 279\u001B[0m     line \u001B[38;5;241m=\u001B[39m \u001B[38;5;28mstr\u001B[39m(\u001B[38;5;28;43mself\u001B[39;49m\u001B[38;5;241;43m.\u001B[39;49m\u001B[43mfp\u001B[49m\u001B[38;5;241;43m.\u001B[39;49m\u001B[43mreadline\u001B[49m\u001B[43m(\u001B[49m\u001B[43m_MAXLINE\u001B[49m\u001B[43m \u001B[49m\u001B[38;5;241;43m+\u001B[39;49m\u001B[43m \u001B[49m\u001B[38;5;241;43m1\u001B[39;49m\u001B[43m)\u001B[49m, \u001B[38;5;124m\"\u001B[39m\u001B[38;5;124miso-8859-1\u001B[39m\u001B[38;5;124m\"\u001B[39m)\n\u001B[0;32m    280\u001B[0m     \u001B[38;5;28;01mif\u001B[39;00m \u001B[38;5;28mlen\u001B[39m(line) \u001B[38;5;241m>\u001B[39m _MAXLINE:\n\u001B[0;32m    281\u001B[0m         \u001B[38;5;28;01mraise\u001B[39;00m LineTooLong(\u001B[38;5;124m\"\u001B[39m\u001B[38;5;124mstatus line\u001B[39m\u001B[38;5;124m\"\u001B[39m)\n",
      "File \u001B[1;32mC:\\Python310\\lib\\socket.py:705\u001B[0m, in \u001B[0;36mSocketIO.readinto\u001B[1;34m(self, b)\u001B[0m\n\u001B[0;32m    703\u001B[0m \u001B[38;5;28;01mwhile\u001B[39;00m \u001B[38;5;28;01mTrue\u001B[39;00m:\n\u001B[0;32m    704\u001B[0m     \u001B[38;5;28;01mtry\u001B[39;00m:\n\u001B[1;32m--> 705\u001B[0m         \u001B[38;5;28;01mreturn\u001B[39;00m \u001B[38;5;28;43mself\u001B[39;49m\u001B[38;5;241;43m.\u001B[39;49m\u001B[43m_sock\u001B[49m\u001B[38;5;241;43m.\u001B[39;49m\u001B[43mrecv_into\u001B[49m\u001B[43m(\u001B[49m\u001B[43mb\u001B[49m\u001B[43m)\u001B[49m\n\u001B[0;32m    706\u001B[0m     \u001B[38;5;28;01mexcept\u001B[39;00m timeout:\n\u001B[0;32m    707\u001B[0m         \u001B[38;5;28mself\u001B[39m\u001B[38;5;241m.\u001B[39m_timeout_occurred \u001B[38;5;241m=\u001B[39m \u001B[38;5;28;01mTrue\u001B[39;00m\n",
      "\u001B[1;31mKeyboardInterrupt\u001B[0m: "
     ]
    }
   ],
   "source": [
    "#type(shoe_hrefs[10][0])\n",
    "for link in shoe_hrefs:\n",
    "    driver.get(link[0])\n",
    "    time.sleep(5)"
   ],
   "metadata": {
    "collapsed": false,
    "pycharm": {
     "name": "#%%\n"
    }
   }
  }
 ],
 "metadata": {
  "kernelspec": {
   "display_name": "Python 3",
   "language": "python",
   "name": "python3"
  },
  "language_info": {
   "codemirror_mode": {
    "name": "ipython",
    "version": 2
   },
   "file_extension": ".py",
   "mimetype": "text/x-python",
   "name": "python",
   "nbconvert_exporter": "python",
   "pygments_lexer": "ipython2",
   "version": "2.7.6"
  }
 },
 "nbformat": 4,
 "nbformat_minor": 0
}