{
 "cells": [
  {
   "cell_type": "code",
   "execution_count": 1,
   "metadata": {
    "collapsed": true
   },
   "outputs": [
    {
     "name": "stderr",
     "output_type": "stream",
     "text": [
      "C:\\Users\\krzys\\AppData\\Local\\Temp\\ipykernel_21704\\1210684662.py:32: DeprecationWarning: executable_path has been deprecated, please pass in a Service object\n",
      "  driver = webdriver.Chrome(CHROMEDRIVER_PATH)\n"
     ]
    }
   ],
   "source": [
    "#import requests, lxml, re, json, pandas as pd, cfscrape\n",
    "#from bs4 import BeautifulSoup as BS\n",
    "from PIL import Image\n",
    "import urllib.request\n",
    "import os\n",
    "\n",
    "#import undetected_chromedriver as uc\n",
    "\n",
    "from selenium import webdriver\n",
    "from selenium.webdriver.common.by import By\n",
    "\n",
    "\n",
    "def manual_error_manager():\n",
    "    print(\"Some error\")\n",
    "    input(\"Press Enter to continue...\")\n",
    "    input(\"Press Enter to continue...\")\n",
    "\n",
    "#Static strings\n",
    "CHROMEDRIVER_PATH = \"C:\\Program Files (x86)\\chromedriver.exe\"\n",
    "base_url_square=\"https://images.google.com/?q=&tbs=iar:s\"\n",
    "base_url=\"https://www.google.com/search?tbm=isch&q=\"\n",
    "dir_name=\"C:/Users/krzys/Desktop/Polibuda/sem. 6/BIAI/archive/train_v2/\"\n",
    "extension_name= \".jpg\"\n",
    "\n",
    "#Getting folder paths and names od breeds\n",
    "class_folder_paths = ['C:/Users/krzys/Desktop/Polibuda/sem. 6/BIAI/archive/train_v2/'+x for x in os.listdir('C:/Users/krzys/Desktop/Polibuda/sem. 6/BIAI/archive/train_v2/')]\n",
    "dog_breed_names=[]\n",
    "for b in class_folder_paths:\n",
    "    dog_breed_names.append(b.rsplit('/',1)[1])\n",
    "\n",
    "#Creating driver\n",
    "driver = webdriver.Chrome(CHROMEDRIVER_PATH)"
   ]
  },
  {
   "cell_type": "code",
   "execution_count": null,
   "outputs": [],
   "source": [
    "#try:\n",
    "#Iterating through breeds\n",
    "for breed in dog_breed_names:\n",
    "    dog_url = base_url + breed + \"%20dog\"\n",
    "    driver.get(dog_url)\n",
    "#Scrroling down to load more images\n",
    "    driver.execute_script(\"window.scrollBy(0,2200)\", \"\")\n",
    "#Getting list of images src\n",
    "    img_elements_list = driver.find_elements(By.CLASS_NAME, \"rg_i\")\n",
    "    for i in range(100): #Getting 100 images\n",
    "    #Generating name and path for image\n",
    "        save_name = dir_name + breed + \"/\" + str(i+1) + extension_name\n",
    "    #Saving image_url from url\n",
    "        print(img_elements_list[i].get_attribute('src'))\n",
    "        urllib.request.urlretrieve(img_elements_list[i].get_attribute('src'), save_name)\n",
    "    #Scaling image by width\n",
    "        base_width = 224\n",
    "        img = Image.open(save_name)\n",
    "        w_percent = (base_width / float(img.size[0]))\n",
    "        h_size = int((float(img.size[1]) * float(w_percent)))\n",
    "        img = img.resize((base_width, h_size), Image.Resampling.LANCZOS)\n",
    "        img.save(save_name)\n",
    "#except:\n",
    "#    manual_error_manager()"
   ],
   "metadata": {
    "collapsed": false,
    "pycharm": {
     "name": "#%%\n"
    }
   }
  },
  {
   "cell_type": "code",
   "execution_count": null,
   "outputs": [],
   "source": [],
   "metadata": {
    "collapsed": false,
    "pycharm": {
     "name": "#%%\n"
    }
   }
  }
 ],
 "metadata": {
  "kernelspec": {
   "display_name": "Python 3",
   "language": "python",
   "name": "python3"
  },
  "language_info": {
   "codemirror_mode": {
    "name": "ipython",
    "version": 2
   },
   "file_extension": ".py",
   "mimetype": "text/x-python",
   "name": "python",
   "nbconvert_exporter": "python",
   "pygments_lexer": "ipython2",
   "version": "2.7.6"
  }
 },
 "nbformat": 4,
 "nbformat_minor": 0
}