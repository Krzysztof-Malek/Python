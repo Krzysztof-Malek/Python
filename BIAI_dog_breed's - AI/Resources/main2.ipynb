{
 "cells": [
  {
   "cell_type": "code",
   "execution_count": 2,
   "outputs": [],
   "source": [
    "## Importing libraries\n",
    "import PIL\n",
    "import imageio as imageio\n",
    "import pandas as pd\n",
    "import numpy as np\n",
    "import cv2\n",
    "import os\n",
    "import glob\n",
    "import time\n",
    "from scipy.spatial import distance\n",
    "from sklearn.model_selection import train_test_split\n",
    "from sklearn.metrics import classification_report, confusion_matrix\n",
    "from matplotlib import pyplot\n",
    "from matplotlib.patches import Rectangle\n",
    "import tensorflow as tf\n",
    "import seaborn as sns\n",
    "\n",
    "from tensorflow.python.keras import Sequential, models\n",
    "from tensorflow.python.keras.layers import Flatten, Dense, Conv2D, MaxPool2D\n",
    "from keras.preprocessing.image import ImageDataGenerator\n",
    "import keras\n",
    "import matplotlib.pyplot as plt"
   ],
   "metadata": {
    "collapsed": false,
    "pycharm": {
     "name": "#%%\n"
    }
   }
  },
  {
   "cell_type": "code",
   "execution_count": 3,
   "outputs": [],
   "source": [
    "###################################################################################\n",
    "\n",
    "# draw an image with detected objects\n",
    "def draw_image_with_boxes(filename, result_list):\n",
    "    # load the image\n",
    "    data = pyplot.imread(filename)\n",
    "    # plot the image\n",
    "    pyplot.imshow(data)\n",
    "    # get the context for drawing boxes\n",
    "    ax = pyplot.gca()\n",
    "    # plot each box\n",
    "    for result in result_list:\n",
    "        # get coordinates\n",
    "        x, y, width, height = result['box']\n",
    "        # create the shape\n",
    "        rect = Rectangle((x, y), width, height, fill=False, color='red')\n",
    "        # draw the box\n",
    "        ax.add_patch(rect)\n",
    "    # show the plot\n",
    "    pyplot.show()\n",
    "\n",
    "\n",
    "\n",
    "\n",
    "#################################################################################3"
   ],
   "metadata": {
    "collapsed": false,
    "pycharm": {
     "name": "#%%\n"
    }
   }
  },
  {
   "cell_type": "code",
   "execution_count": 5,
   "outputs": [
    {
     "data": {
      "text/plain": "Empty DataFrame\nColumns: [image_path, mask_status, where]\nIndex: []",
      "text/html": "<div>\n<style scoped>\n    .dataframe tbody tr th:only-of-type {\n        vertical-align: middle;\n    }\n\n    .dataframe tbody tr th {\n        vertical-align: top;\n    }\n\n    .dataframe thead th {\n        text-align: right;\n    }\n</style>\n<table border=\"1\" class=\"dataframe\">\n  <thead>\n    <tr style=\"text-align: right;\">\n      <th></th>\n      <th>image_path</th>\n      <th>mask_status</th>\n      <th>where</th>\n    </tr>\n  </thead>\n  <tbody>\n  </tbody>\n</table>\n</div>"
     },
     "execution_count": 5,
     "metadata": {},
     "output_type": "execute_result"
    }
   ],
   "source": [
    "\n",
    "\n",
    "\n",
    "\n",
    "path = \"C:/Users/krzys/Desktop/Polibuda/sem. 6/BIAI/przetrenowane\"\n",
    "\n",
    "dataset = {\n",
    "    \"image_path\": [],\n",
    "    \"mask_status\": [],\n",
    "    \"where\": []\n",
    "}\n",
    "\n",
    "for where in os.listdir(path):\n",
    "    for status in os.listdir(path + \"/\" + where):\n",
    "        for image in glob.glob(path + where + \"/\" + status + \"/\" + \"*.png\"):\n",
    "            dataset[\"image_path\"].append(image)\n",
    "            dataset[\"mask_status\"].append(status)\n",
    "            dataset[\"where\"].append(where)\n",
    "\n",
    "dataset = pd.DataFrame(dataset)\n",
    "dataset.head()"
   ],
   "metadata": {
    "collapsed": false,
    "pycharm": {
     "name": "#%%\n"
    }
   }
  },
  {
   "cell_type": "code",
   "execution_count": null,
   "outputs": [],
   "source": [
    "## Konwersja na numpy (potrzebne dp TensorFlowa)\n",
    "X = np.array(X)\n",
    "y = np.array(y)\n",
    "\n",
    "## Normalizacja danych\n",
    "X = X/255\n",
    "\n",
    "## Inicjalizacja procesu trenowania, okreslenie funkcji aktywnacji\n",
    "\n",
    "model = Sequential() # w keras są 2 modele - sekwencyjny i funkcjonalny. Sekwencyjny pozwala buydować model warstwa po warstiw\n",
    "model.add(Conv2D(64, (3, 3), activation = \"relu\")) # i tu są te warstwy po kolei dodawane - tu np warstwa konwolucyjna. Konwolucja = branie danych i filtrowanie, przez co algorytm się uczy\n",
    "model.add(MaxPool2D(pool_size=(3, 3))) #maxpooling służy do przyspieszania, bo upraszcza obliczenia bez utraty istotnych informacji\n",
    "model.add(Flatten()) # spłaszcza dane do postaci jednego wektora, by mogło wejść do wartwy dense\n",
    "model.add(Dense(1, activation = \"sigmoid\"))\n",
    "\n",
    "## kompilacja\n",
    "model.compile(optimizer='adam', # typ optymalizatora , adam zazwyczaj najlepszy\n",
    "              loss=tf.keras.losses.BinaryCrossentropy(), # funkcja straty, ewaluuje jak dobrze się algorytm się sprawuje, tą funkcje się minimalizuje\n",
    "              metrics=['accuracy']) # miary mierzenia skuteczności algorytmu\n",
    "\n",
    "## Reshaping training set to match Conc2D\n",
    "X_train = X_train.reshape(len(X_train), X_train.shape[1], X_train.shape[2], 1)\n",
    "X_val = X_val.reshape(len(X_val), X_val.shape[1], X_val.shape[2], 1)\n",
    "\n",
    "history = model.fit(X_train, y_train, epochs=5, batch_size = 32) # trenowańsko  jedna epoka = 1 przejście przez cały zbiór treningowy, 1 akutualizacja wag, i 1 przejście z powrtotem. Potem ładuje nowe dane, dla kolejnej epoki\n",
    "                                                                 # dane podaje się w batchach = wierszach, podaje je algorytmowi w takich mniejszych porcjach, przez to się efektywniej uczy\n",
    "model.summary() # wyświetla podsumowanie\n",
    "\n",
    "model.evaluate(X_val, y_val) # ewaluacja skuteczności przez model walidacji i na tej podstawie liczy jak bardzo dobry jest ten model\n",
    "\n",
    "## Wykonanie predykcji\n",
    "prediction = model.predict_classes(X_val) # predykcja tego do której klasy ma iść dany obrazek - czy z maską, czy do bez maski\n",
    "\n",
    "print(\"Raport zbiorowy\")\n",
    "print(classification_report(y_val, prediction))\n",
    "print(confusion_matrix(y_val, prediction))\n",
    "\n",
    "# dla predykcji zwyklego jednego obrazka\n",
    "#print(\"Raport indywidualny\")\n",
    "\n",
    "\n",
    "#img_array = cv2.imread(path_to_image)\n",
    "\n",
    "#model.save(\"model\")\n",
    "#img = img.reshape(len(X_val), X_val.shape[1], X_val.shape[2], 1)\n",
    "#individual_prediction = model.predict(img)\n",
    "\n",
    "#print(classification_report(individual_prediction))"
   ],
   "metadata": {
    "collapsed": false,
    "pycharm": {
     "name": "#%%\n"
    }
   }
  }
 ],
 "metadata": {
  "kernelspec": {
   "display_name": "Python 3",
   "language": "python",
   "name": "python3"
  },
  "language_info": {
   "codemirror_mode": {
    "name": "ipython",
    "version": 2
   },
   "file_extension": ".py",
   "mimetype": "text/x-python",
   "name": "python",
   "nbconvert_exporter": "python",
   "pygments_lexer": "ipython2",
   "version": "2.7.6"
  }
 },
 "nbformat": 4,
 "nbformat_minor": 0
}