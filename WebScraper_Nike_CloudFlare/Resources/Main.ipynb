{
 "cells": [
  {
   "cell_type": "code",
   "execution_count": 1,
   "metadata": {
    "collapsed": true
   },
   "outputs": [],
   "source": [
    "\n",
    "import pandas\n",
    "from bs4 import BeautifulSoup as BS\n",
    "import requests\n",
    "import cfscrape\n"
   ]
  },
  {
   "cell_type": "code",
   "execution_count": 2,
   "outputs": [
    {
     "name": "stdout",
     "output_type": "stream",
     "text": [
      "[<div id=\"cf-wrapper\">\n",
      "<div class=\"cf-alert cf-alert-error cf-cookie-error\" data-translate=\"enable_cookies\" id=\"cookie-alert\">Please enable cookies.</div>\n",
      "<div class=\"cf-error-details-wrapper\" id=\"cf-error-details\">\n",
      "<div class=\"cf-wrapper cf-header cf-error-overview\">\n",
      "<h1 data-translate=\"block_headline\">Sorry, you have been blocked</h1>\n",
      "<h2 class=\"cf-subheadline\"><span data-translate=\"unable_to_access\">You are unable to access</span> warsawsneakerstore.com</h2>\n",
      "</div><!-- /.header -->\n",
      "<div class=\"cf-section cf-highlight\">\n",
      "<div class=\"cf-wrapper\">\n",
      "<div class=\"cf-screenshot-container cf-screenshot-full\">\n",
      "<span class=\"cf-no-screenshot error\"></span>\n",
      "</div>\n",
      "</div>\n",
      "</div><!-- /.captcha-container -->\n",
      "<div class=\"cf-section cf-wrapper\">\n",
      "<div class=\"cf-columns two\">\n",
      "<div class=\"cf-column\">\n",
      "<h2 data-translate=\"blocked_why_headline\">Why have I been blocked?</h2>\n",
      "<p data-translate=\"blocked_why_detail\">This website is using a security service to protect itself from online attacks. The action you just performed triggered the security solution. There are several actions that could trigger this block including submitting a certain word or phrase, a SQL command or malformed data.</p>\n",
      "</div>\n",
      "<div class=\"cf-column\">\n",
      "<h2 data-translate=\"blocked_resolve_headline\">What can I do to resolve this?</h2>\n",
      "<p data-translate=\"blocked_resolve_detail\">You can email the site owner to let them know you were blocked. Please include what you were doing when this page came up and the Cloudflare Ray ID found at the bottom of this page.</p>\n",
      "</div>\n",
      "</div>\n",
      "</div><!-- /.section -->\n",
      "<div class=\"cf-error-footer cf-wrapper w-240 lg:w-full py-10 sm:py-4 sm:px-8 mx-auto text-center sm:text-left border-solid border-0 border-t border-gray-300\">\n",
      "<p class=\"text-13\">\n",
      "<span class=\"cf-footer-item sm:block sm:mb-1\">Cloudflare Ray ID: <strong class=\"font-semibold\">714e31526dc29944</strong></span>\n",
      "<span class=\"cf-footer-separator sm:hidden\">•</span>\n",
      "<span class=\"cf-footer-item sm:block sm:mb-1\"><span>Your IP</span>: 2a01:111f:4003:3e00:7176:966b:afcc:e1eb</span>\n",
      "<span class=\"cf-footer-separator sm:hidden\">•</span>\n",
      "<span class=\"cf-footer-item sm:block sm:mb-1\"><span>Performance &amp; security by</span> <a href=\"https://www.cloudflare.com/5xx-error-landing\" id=\"brand_link\" rel=\"noopener noreferrer\" target=\"_blank\">Cloudflare</a></span>\n",
      "</p>\n",
      "</div><!-- /.error-footer -->\n",
      "</div><!-- /#cf-error-details -->\n",
      "</div>, <div class=\"cf-alert cf-alert-error cf-cookie-error\" data-translate=\"enable_cookies\" id=\"cookie-alert\">Please enable cookies.</div>, <div class=\"cf-error-details-wrapper\" id=\"cf-error-details\">\n",
      "<div class=\"cf-wrapper cf-header cf-error-overview\">\n",
      "<h1 data-translate=\"block_headline\">Sorry, you have been blocked</h1>\n",
      "<h2 class=\"cf-subheadline\"><span data-translate=\"unable_to_access\">You are unable to access</span> warsawsneakerstore.com</h2>\n",
      "</div><!-- /.header -->\n",
      "<div class=\"cf-section cf-highlight\">\n",
      "<div class=\"cf-wrapper\">\n",
      "<div class=\"cf-screenshot-container cf-screenshot-full\">\n",
      "<span class=\"cf-no-screenshot error\"></span>\n",
      "</div>\n",
      "</div>\n",
      "</div><!-- /.captcha-container -->\n",
      "<div class=\"cf-section cf-wrapper\">\n",
      "<div class=\"cf-columns two\">\n",
      "<div class=\"cf-column\">\n",
      "<h2 data-translate=\"blocked_why_headline\">Why have I been blocked?</h2>\n",
      "<p data-translate=\"blocked_why_detail\">This website is using a security service to protect itself from online attacks. The action you just performed triggered the security solution. There are several actions that could trigger this block including submitting a certain word or phrase, a SQL command or malformed data.</p>\n",
      "</div>\n",
      "<div class=\"cf-column\">\n",
      "<h2 data-translate=\"blocked_resolve_headline\">What can I do to resolve this?</h2>\n",
      "<p data-translate=\"blocked_resolve_detail\">You can email the site owner to let them know you were blocked. Please include what you were doing when this page came up and the Cloudflare Ray ID found at the bottom of this page.</p>\n",
      "</div>\n",
      "</div>\n",
      "</div><!-- /.section -->\n",
      "<div class=\"cf-error-footer cf-wrapper w-240 lg:w-full py-10 sm:py-4 sm:px-8 mx-auto text-center sm:text-left border-solid border-0 border-t border-gray-300\">\n",
      "<p class=\"text-13\">\n",
      "<span class=\"cf-footer-item sm:block sm:mb-1\">Cloudflare Ray ID: <strong class=\"font-semibold\">714e31526dc29944</strong></span>\n",
      "<span class=\"cf-footer-separator sm:hidden\">•</span>\n",
      "<span class=\"cf-footer-item sm:block sm:mb-1\"><span>Your IP</span>: 2a01:111f:4003:3e00:7176:966b:afcc:e1eb</span>\n",
      "<span class=\"cf-footer-separator sm:hidden\">•</span>\n",
      "<span class=\"cf-footer-item sm:block sm:mb-1\"><span>Performance &amp; security by</span> <a href=\"https://www.cloudflare.com/5xx-error-landing\" id=\"brand_link\" rel=\"noopener noreferrer\" target=\"_blank\">Cloudflare</a></span>\n",
      "</p>\n",
      "</div><!-- /.error-footer -->\n",
      "</div>, <div class=\"cf-wrapper cf-header cf-error-overview\">\n",
      "<h1 data-translate=\"block_headline\">Sorry, you have been blocked</h1>\n",
      "<h2 class=\"cf-subheadline\"><span data-translate=\"unable_to_access\">You are unable to access</span> warsawsneakerstore.com</h2>\n",
      "</div>, <div class=\"cf-section cf-highlight\">\n",
      "<div class=\"cf-wrapper\">\n",
      "<div class=\"cf-screenshot-container cf-screenshot-full\">\n",
      "<span class=\"cf-no-screenshot error\"></span>\n",
      "</div>\n",
      "</div>\n",
      "</div>, <div class=\"cf-wrapper\">\n",
      "<div class=\"cf-screenshot-container cf-screenshot-full\">\n",
      "<span class=\"cf-no-screenshot error\"></span>\n",
      "</div>\n",
      "</div>, <div class=\"cf-screenshot-container cf-screenshot-full\">\n",
      "<span class=\"cf-no-screenshot error\"></span>\n",
      "</div>, <div class=\"cf-section cf-wrapper\">\n",
      "<div class=\"cf-columns two\">\n",
      "<div class=\"cf-column\">\n",
      "<h2 data-translate=\"blocked_why_headline\">Why have I been blocked?</h2>\n",
      "<p data-translate=\"blocked_why_detail\">This website is using a security service to protect itself from online attacks. The action you just performed triggered the security solution. There are several actions that could trigger this block including submitting a certain word or phrase, a SQL command or malformed data.</p>\n",
      "</div>\n",
      "<div class=\"cf-column\">\n",
      "<h2 data-translate=\"blocked_resolve_headline\">What can I do to resolve this?</h2>\n",
      "<p data-translate=\"blocked_resolve_detail\">You can email the site owner to let them know you were blocked. Please include what you were doing when this page came up and the Cloudflare Ray ID found at the bottom of this page.</p>\n",
      "</div>\n",
      "</div>\n",
      "</div>, <div class=\"cf-columns two\">\n",
      "<div class=\"cf-column\">\n",
      "<h2 data-translate=\"blocked_why_headline\">Why have I been blocked?</h2>\n",
      "<p data-translate=\"blocked_why_detail\">This website is using a security service to protect itself from online attacks. The action you just performed triggered the security solution. There are several actions that could trigger this block including submitting a certain word or phrase, a SQL command or malformed data.</p>\n",
      "</div>\n",
      "<div class=\"cf-column\">\n",
      "<h2 data-translate=\"blocked_resolve_headline\">What can I do to resolve this?</h2>\n",
      "<p data-translate=\"blocked_resolve_detail\">You can email the site owner to let them know you were blocked. Please include what you were doing when this page came up and the Cloudflare Ray ID found at the bottom of this page.</p>\n",
      "</div>\n",
      "</div>, <div class=\"cf-column\">\n",
      "<h2 data-translate=\"blocked_why_headline\">Why have I been blocked?</h2>\n",
      "<p data-translate=\"blocked_why_detail\">This website is using a security service to protect itself from online attacks. The action you just performed triggered the security solution. There are several actions that could trigger this block including submitting a certain word or phrase, a SQL command or malformed data.</p>\n",
      "</div>, <div class=\"cf-column\">\n",
      "<h2 data-translate=\"blocked_resolve_headline\">What can I do to resolve this?</h2>\n",
      "<p data-translate=\"blocked_resolve_detail\">You can email the site owner to let them know you were blocked. Please include what you were doing when this page came up and the Cloudflare Ray ID found at the bottom of this page.</p>\n",
      "</div>, <div class=\"cf-error-footer cf-wrapper w-240 lg:w-full py-10 sm:py-4 sm:px-8 mx-auto text-center sm:text-left border-solid border-0 border-t border-gray-300\">\n",
      "<p class=\"text-13\">\n",
      "<span class=\"cf-footer-item sm:block sm:mb-1\">Cloudflare Ray ID: <strong class=\"font-semibold\">714e31526dc29944</strong></span>\n",
      "<span class=\"cf-footer-separator sm:hidden\">•</span>\n",
      "<span class=\"cf-footer-item sm:block sm:mb-1\"><span>Your IP</span>: 2a01:111f:4003:3e00:7176:966b:afcc:e1eb</span>\n",
      "<span class=\"cf-footer-separator sm:hidden\">•</span>\n",
      "<span class=\"cf-footer-item sm:block sm:mb-1\"><span>Performance &amp; security by</span> <a href=\"https://www.cloudflare.com/5xx-error-landing\" id=\"brand_link\" rel=\"noopener noreferrer\" target=\"_blank\">Cloudflare</a></span>\n",
      "</p>\n",
      "</div>]\n"
     ]
    }
   ],
   "source": [
    "base_url=\"https://warsawsneakerstore.com/menu/obuwie/meskie/nike\"\n",
    "#base_url=\"https://jupyter.org/install\"\n",
    "#r=requests.get(base_url)\n",
    "#c=r.content\n",
    "r=cfscrape.create_scraper()\n",
    "c=r.get(base_url).content\n",
    "base_soup=BS(c, \"html.parser\")\n",
    "base_all=base_soup.find_all(\"div\")\n",
    "print(base_all)"
   ],
   "metadata": {
    "collapsed": false,
    "pycharm": {
     "name": "#%%\n"
    }
   }
  },
  {
   "cell_type": "code",
   "execution_count": 3,
   "outputs": [],
   "source": [
    "#temp constant\n",
    "shoe_url=\"https://warsawsneakerstore.com/air-trainer-1-sp-dh7338-300.html\"\n",
    "shoe_list=[]\n",
    "shoe_row={}\n",
    "\n",
    "shoe_r=cfscrape.create_scraper()\n",
    "shoe_c=r.get(shoe_url).content\n",
    "shoe_soup=BS(shoe_c, \"html.parser\")"
   ],
   "metadata": {
    "collapsed": false,
    "pycharm": {
     "name": "#%%\n"
    }
   }
  },
  {
   "cell_type": "code",
   "execution_count": 4,
   "outputs": [
    {
     "name": "stdout",
     "output_type": "stream",
     "text": [
      "<!DOCTYPE html>\n",
      "\n",
      "<!--[if lt IE 7]> <html class=\"no-js ie6 oldie\" lang=\"en-US\"> <![endif]-->\n",
      "<!--[if IE 7]>    <html class=\"no-js ie7 oldie\" lang=\"en-US\"> <![endif]-->\n",
      "<!--[if IE 8]>    <html class=\"no-js ie8 oldie\" lang=\"en-US\"> <![endif]-->\n",
      "<!--[if gt IE 8]><!--> <html class=\"no-js\" lang=\"en-US\"> <!--<![endif]-->\n",
      "<head>\n",
      "<title>Attention Required! | Cloudflare</title>\n",
      "<meta charset=\"utf-8\"/>\n",
      "<meta content=\"text/html; charset=utf-8\" http-equiv=\"Content-Type\"/>\n",
      "<meta content=\"IE=Edge\" http-equiv=\"X-UA-Compatible\"/>\n",
      "<meta content=\"noindex, nofollow\" name=\"robots\"/>\n",
      "<meta content=\"width=device-width,initial-scale=1\" name=\"viewport\"/>\n",
      "<link href=\"/cdn-cgi/styles/cf.errors.css\" id=\"cf_styles-css\" rel=\"stylesheet\"/>\n",
      "<!--[if lt IE 9]><link rel=\"stylesheet\" id='cf_styles-ie-css' href=\"/cdn-cgi/styles/cf.errors.ie.css\" /><![endif]-->\n",
      "<style>body{margin:0;padding:0}</style>\n",
      "<!--[if gte IE 10]><!-->\n",
      "<script>\n",
      "  if (!navigator.cookieEnabled) {\n",
      "    window.addEventListener('DOMContentLoaded', function () {\n",
      "      var cookieEl = document.getElementById('cookie-alert');\n",
      "      cookieEl.style.display = 'block';\n",
      "    })\n",
      "  }\n",
      "</script>\n",
      "<!--<![endif]-->\n",
      "</head>\n",
      "<body>\n",
      "<div id=\"cf-wrapper\">\n",
      "<div class=\"cf-alert cf-alert-error cf-cookie-error\" data-translate=\"enable_cookies\" id=\"cookie-alert\">Please enable cookies.</div>\n",
      "<div class=\"cf-error-details-wrapper\" id=\"cf-error-details\">\n",
      "<div class=\"cf-wrapper cf-header cf-error-overview\">\n",
      "<h1 data-translate=\"block_headline\">Sorry, you have been blocked</h1>\n",
      "<h2 class=\"cf-subheadline\"><span data-translate=\"unable_to_access\">You are unable to access</span> warsawsneakerstore.com</h2>\n",
      "</div><!-- /.header -->\n",
      "<div class=\"cf-section cf-highlight\">\n",
      "<div class=\"cf-wrapper\">\n",
      "<div class=\"cf-screenshot-container cf-screenshot-full\">\n",
      "<span class=\"cf-no-screenshot error\"></span>\n",
      "</div>\n",
      "</div>\n",
      "</div><!-- /.captcha-container -->\n",
      "<div class=\"cf-section cf-wrapper\">\n",
      "<div class=\"cf-columns two\">\n",
      "<div class=\"cf-column\">\n",
      "<h2 data-translate=\"blocked_why_headline\">Why have I been blocked?</h2>\n",
      "<p data-translate=\"blocked_why_detail\">This website is using a security service to protect itself from online attacks. The action you just performed triggered the security solution. There are several actions that could trigger this block including submitting a certain word or phrase, a SQL command or malformed data.</p>\n",
      "</div>\n",
      "<div class=\"cf-column\">\n",
      "<h2 data-translate=\"blocked_resolve_headline\">What can I do to resolve this?</h2>\n",
      "<p data-translate=\"blocked_resolve_detail\">You can email the site owner to let them know you were blocked. Please include what you were doing when this page came up and the Cloudflare Ray ID found at the bottom of this page.</p>\n",
      "</div>\n",
      "</div>\n",
      "</div><!-- /.section -->\n",
      "<div class=\"cf-error-footer cf-wrapper w-240 lg:w-full py-10 sm:py-4 sm:px-8 mx-auto text-center sm:text-left border-solid border-0 border-t border-gray-300\">\n",
      "<p class=\"text-13\">\n",
      "<span class=\"cf-footer-item sm:block sm:mb-1\">Cloudflare Ray ID: <strong class=\"font-semibold\">714e3152de869944</strong></span>\n",
      "<span class=\"cf-footer-separator sm:hidden\">•</span>\n",
      "<span class=\"cf-footer-item sm:block sm:mb-1\"><span>Your IP</span>: 2a01:111f:4003:3e00:7176:966b:afcc:e1eb</span>\n",
      "<span class=\"cf-footer-separator sm:hidden\">•</span>\n",
      "<span class=\"cf-footer-item sm:block sm:mb-1\"><span>Performance &amp; security by</span> <a href=\"https://www.cloudflare.com/5xx-error-landing\" id=\"brand_link\" rel=\"noopener noreferrer\" target=\"_blank\">Cloudflare</a></span>\n",
      "</p>\n",
      "</div><!-- /.error-footer -->\n",
      "</div><!-- /#cf-error-details -->\n",
      "</div><!-- /#cf-wrapper -->\n",
      "<script>\n",
      "  window._cf_translation = {};\n",
      "  \n",
      "  \n",
      "</script>\n",
      "</body>\n",
      "</html>\n",
      "\n"
     ]
    }
   ],
   "source": [
    "shoe_name=shoe_soup.find(\"div\",{\"class\":\"product__basic-info-wrap\", \"class\":\"product__basic-info-wrap--main\"})\n",
    "shoe_description=shoe_soup.find(\"div\",{\"class\":\"section__content section__content--description\"})\n",
    "print(shoe_soup)"
   ],
   "metadata": {
    "collapsed": false,
    "pycharm": {
     "name": "#%%\n"
    }
   }
  },
  {
   "cell_type": "code",
   "execution_count": 5,
   "outputs": [
    {
     "ename": "AttributeError",
     "evalue": "'NoneType' object has no attribute 'find'",
     "output_type": "error",
     "traceback": [
      "\u001B[1;31m---------------------------------------------------------------------------\u001B[0m",
      "\u001B[1;31mAttributeError\u001B[0m                            Traceback (most recent call last)",
      "Input \u001B[1;32mIn [5]\u001B[0m, in \u001B[0;36m<module>\u001B[1;34m\u001B[0m\n\u001B[1;32m----> 1\u001B[0m ate\u001B[38;5;241m=\u001B[39m\u001B[43mshoe_name\u001B[49m\u001B[38;5;241;43m.\u001B[39;49m\u001B[43mfind\u001B[49m(\u001B[38;5;124m\"\u001B[39m\u001B[38;5;124mh1\u001B[39m\u001B[38;5;124m\"\u001B[39m, {\u001B[38;5;124m\"\u001B[39m\u001B[38;5;124mclass\u001B[39m\u001B[38;5;124m\"\u001B[39m:\u001B[38;5;124m\"\u001B[39m\u001B[38;5;124mproduct__name\u001B[39m\u001B[38;5;124m\"\u001B[39m, \u001B[38;5;124m\"\u001B[39m\u001B[38;5;124mclass\u001B[39m\u001B[38;5;124m\"\u001B[39m:\u001B[38;5;124m\"\u001B[39m\u001B[38;5;124mproduct-name\u001B[39m\u001B[38;5;124m\"\u001B[39m})\u001B[38;5;241m.\u001B[39mtext\n\u001B[0;32m      2\u001B[0m \u001B[38;5;28mprint\u001B[39m(ate)\n\u001B[0;32m      3\u001B[0m shoe_row[\u001B[38;5;124m\"\u001B[39m\u001B[38;5;124mMark\u001B[39m\u001B[38;5;124m\"\u001B[39m]\u001B[38;5;241m=\u001B[39mate\u001B[38;5;241m.\u001B[39msplit(\u001B[38;5;124m\"\u001B[39m\u001B[38;5;124m \u001B[39m\u001B[38;5;124m\"\u001B[39m,\u001B[38;5;241m1\u001B[39m)[\u001B[38;5;241m0\u001B[39m]\n",
      "\u001B[1;31mAttributeError\u001B[0m: 'NoneType' object has no attribute 'find'"
     ]
    }
   ],
   "source": [
    "ate=shoe_name.find(\"h1\", {\"class\":\"product__name\", \"class\":\"product-name\"}).text\n",
    "print(ate)\n",
    "shoe_row[\"Mark\"]=ate.split(\" \",1)[0]\n",
    "print(ate)\n",
    "\n",
    "shoe_row[\"Mark\"]=None\n",
    "\n",
    "\n",
    "\n",
    "\n",
    "\n",
    "\n",
    "\n",
    "\n",
    "shoe_list.append(shoe_row)\n",
    "print(shoe_list)\n",
    "print(shoe_name)"
   ],
   "metadata": {
    "collapsed": false,
    "pycharm": {
     "name": "#%%\n"
    }
   }
  }
 ],
 "metadata": {
  "kernelspec": {
   "display_name": "Python 3",
   "language": "python",
   "name": "python3"
  },
  "language_info": {
   "codemirror_mode": {
    "name": "ipython",
    "version": 2
   },
   "file_extension": ".py",
   "mimetype": "text/x-python",
   "name": "python",
   "nbconvert_exporter": "python",
   "pygments_lexer": "ipython2",
   "version": "2.7.6"
  }
 },
 "nbformat": 4,
 "nbformat_minor": 0
}