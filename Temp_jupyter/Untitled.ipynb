{
 "cells": [
  {
   "cell_type": "code",
   "execution_count": 6,
   "outputs": [],
   "source": [
    "    import requests\n",
    "from bs4 import BeautifulSoup as BS\n",
    "import pandas\n",
    "\n",
    "r=requests.get(\"https://pythonizing.github.io/data/real-estate/rock-springs-wy/LCWYROCKSPRINGS/\")\n",
    "c=r.content\n",
    "soup=BS(c, \"html.parser\")\n",
    "\n",
    "all=soup.find_all(\"div\",{\"class\":\"propertyRow\"})\n"
   ],
   "metadata": {
    "collapsed": false,
    "pycharm": {
     "name": "#%%\n"
    }
   }
  },
  {
   "cell_type": "code",
   "execution_count": 6,
   "outputs": [],
   "source": [],
   "metadata": {
    "collapsed": false,
    "pycharm": {
     "name": "#%%\n"
    }
   }
  },
  {
   "cell_type": "code",
   "execution_count": 7,
   "outputs": [
    {
     "name": "stdout",
     "output_type": "stream",
     "text": [
      "https://pythonizing.github.io/data/real-estate/rock-springs-wy/LCWYROCKSPRINGS/t=0&s=0\n",
      "https://pythonizing.github.io/data/real-estate/rock-springs-wy/LCWYROCKSPRINGS/t=0&s=10\n",
      "https://pythonizing.github.io/data/real-estate/rock-springs-wy/LCWYROCKSPRINGS/t=0&s=20\n"
     ]
    },
    {
     "data": {
      "text/plain": "         Price                        Address                     Locality  \\\n0     $725,000                      0 Gateway       Rock Springs, WY 82901   \n1     $452,900          1003 Winchester Blvd.       Rock Springs, WY 82901   \n2     $396,900                  600 Talladega       Rock Springs, WY 82901   \n3     $389,900             3239 Spearhead Way       Rock Springs, WY 82901   \n4     $254,000             522 Emerald Street       Rock Springs, WY 82901   \n5     $252,900           1302 Veteran's Drive       Rock Springs, WY 82901   \n6     $210,000               1021 Cypress Cir       Rock Springs, WY 82901   \n7     $209,000                 913 Madison Dr       Rock Springs, WY 82901   \n8     $199,900              1344 Teton Street       Rock Springs, WY 82901   \n9     $196,900                 4 Minnies Lane       Rock Springs, WY 82901   \n10  $1,700,000                  9339 Sd 26900        Rocksprings, TX 78880   \n11  $1,100,000               RR674P13 Hwy 377        Rocksprings, TX 78880   \n12  $1,080,000                       0 Hwy 41        Rocksprings, TX 78880   \n13    $908,350                  9339 Sd 26900        Rocksprings, TX 78880   \n14    $905,000                  CR450 Hwy 377        Rocksprings, TX 78880   \n15    $695,000                  Cr 240 Cr 240        Rocksprings, TX 78880   \n16    $605,000                  RR674 Hwy 377        Rocksprings, TX 78880   \n17    $559,805                 9770a Sd 26900        Rocksprings, TX 78880   \n18    $504,000                  Lot17 CR 2630        Rocksprings, TX 78880   \n19    $410,000                 Tr12,16 CR 520        Rocksprings, TX 78880   \n20    $299,900   32575 S Shadow Mountain Road  Black Canyon City, AZ 85324   \n21    $167,500        32750 S Shangrila Drive  Black Canyon City, AZ 85324   \n22    $150,000      0000 Black Canyon Highway  Black Canyon City, AZ 85324   \n23    $129,500           34775 S CHOLLA Drive  Black Canyon City, AZ 85324   \n24    $129,000      33403 S. HA-WA-SI TERRACE  BLACK CANYON CITY, AZ 85324   \n25     $80,000          34263 S Bertha Street  Black Canyon City, AZ 85324   \n26     $77,900            33160 S Canyon Road  Black Canyon City, AZ 85324   \n27     $70,500        19421 E Todd Evans Road  Black Canyon City, AZ 85324   \n28     $70,000             18688 E AGUA Vista  Black Canyon City, AZ 85324   \n29     $67,500  50600 N Old Black Canyon Road  Black Canyon City, AZ 85324   \n30     $54,900      20101 E SQUAW VALLEY Road  Black Canyon City, AZ 85324   \n31     $45,600            33259 S Canyon Road  Black Canyon City, AZ 85324   \n32     $40,000          34558 S ROADRUNNER RD  Black Canyon City, AZ 85324   \n33     $30,000       19260 E Scenic Loop Road  Black Canyon City, AZ 85324   \n34     $29,000           19000 E MAREN Avenue  Black Canyon City, AZ 85324   \n35     $28,995          19350 E SAGUARO Drive  Black Canyon City, AZ 85324   \n36     $15,000         20650 E Amethyst Place  Black Canyon City, AZ 85324   \n\n    Beds FullBath HalfBath   SqFt           LotSize  \n0   None     None     None   None               NaN  \n1      4        4     None   None        0.21 Acres  \n2      5        3     None  3,154               NaN  \n3      4        3        1  3,076  Under 1/2 Acre,   \n4      3        3     None  1,172  Under 1/2 Acre,   \n5      4        2     None  1,932        0.27 Acres  \n6      4        3     None  1,676  Under 1/2 Acre,   \n7      3        2     None  1,344  Under 1/2 Acre,   \n8      3        2     None  1,920  Under 1/2 Acre,   \n9      3        2     None  1,664        2.02 Acres  \n10  None     None     None  2,560               NaN  \n11  None     None     None  2,000               NaN  \n12  None     None     None   None               NaN  \n13  None     None     None  2,560               NaN  \n14  None     None     None   None               NaN  \n15  None     None     None  1,398               NaN  \n16  None     None     None  1,738               NaN  \n17  None     None     None  1,080               NaN  \n18  None     None     None   None               NaN  \n19  None     None     None   None               NaN  \n20     3        2     None  2,318               NaN  \n21     3        2     None  2,120               NaN  \n22  None     None     None   None           5 Acres  \n23     3        2     None  1,220               NaN  \n24     4        2     None  2,000               NaN  \n25     5        2     None  2,260               NaN  \n26     3        2     None  1,248               NaN  \n27     3        2     None  1,404               NaN  \n28  None     None     None   None         0.7 Acres  \n29  None     None     None   None           3 Acres  \n30  None     None     None   None               NaN  \n31     3        1     None  1,056               NaN  \n32     2        1     None    784    Under 1/2 Acre  \n33  None     None     None   None        2.35 Acres  \n34  None     None     None   None        2.05 Acres  \n35  None     None     None   None        0.73 Acres  \n36  None     None     None   None        0.31 Acres  ",
      "text/html": "<div>\n<style scoped>\n    .dataframe tbody tr th:only-of-type {\n        vertical-align: middle;\n    }\n\n    .dataframe tbody tr th {\n        vertical-align: top;\n    }\n\n    .dataframe thead th {\n        text-align: right;\n    }\n</style>\n<table border=\"1\" class=\"dataframe\">\n  <thead>\n    <tr style=\"text-align: right;\">\n      <th></th>\n      <th>Price</th>\n      <th>Address</th>\n      <th>Locality</th>\n      <th>Beds</th>\n      <th>FullBath</th>\n      <th>HalfBath</th>\n      <th>SqFt</th>\n      <th>LotSize</th>\n    </tr>\n  </thead>\n  <tbody>\n    <tr>\n      <th>0</th>\n      <td>$725,000</td>\n      <td>0 Gateway</td>\n      <td>Rock Springs, WY 82901</td>\n      <td>None</td>\n      <td>None</td>\n      <td>None</td>\n      <td>None</td>\n      <td>NaN</td>\n    </tr>\n    <tr>\n      <th>1</th>\n      <td>$452,900</td>\n      <td>1003 Winchester Blvd.</td>\n      <td>Rock Springs, WY 82901</td>\n      <td>4</td>\n      <td>4</td>\n      <td>None</td>\n      <td>None</td>\n      <td>0.21 Acres</td>\n    </tr>\n    <tr>\n      <th>2</th>\n      <td>$396,900</td>\n      <td>600 Talladega</td>\n      <td>Rock Springs, WY 82901</td>\n      <td>5</td>\n      <td>3</td>\n      <td>None</td>\n      <td>3,154</td>\n      <td>NaN</td>\n    </tr>\n    <tr>\n      <th>3</th>\n      <td>$389,900</td>\n      <td>3239 Spearhead Way</td>\n      <td>Rock Springs, WY 82901</td>\n      <td>4</td>\n      <td>3</td>\n      <td>1</td>\n      <td>3,076</td>\n      <td>Under 1/2 Acre,</td>\n    </tr>\n    <tr>\n      <th>4</th>\n      <td>$254,000</td>\n      <td>522 Emerald Street</td>\n      <td>Rock Springs, WY 82901</td>\n      <td>3</td>\n      <td>3</td>\n      <td>None</td>\n      <td>1,172</td>\n      <td>Under 1/2 Acre,</td>\n    </tr>\n    <tr>\n      <th>5</th>\n      <td>$252,900</td>\n      <td>1302 Veteran's Drive</td>\n      <td>Rock Springs, WY 82901</td>\n      <td>4</td>\n      <td>2</td>\n      <td>None</td>\n      <td>1,932</td>\n      <td>0.27 Acres</td>\n    </tr>\n    <tr>\n      <th>6</th>\n      <td>$210,000</td>\n      <td>1021 Cypress Cir</td>\n      <td>Rock Springs, WY 82901</td>\n      <td>4</td>\n      <td>3</td>\n      <td>None</td>\n      <td>1,676</td>\n      <td>Under 1/2 Acre,</td>\n    </tr>\n    <tr>\n      <th>7</th>\n      <td>$209,000</td>\n      <td>913 Madison Dr</td>\n      <td>Rock Springs, WY 82901</td>\n      <td>3</td>\n      <td>2</td>\n      <td>None</td>\n      <td>1,344</td>\n      <td>Under 1/2 Acre,</td>\n    </tr>\n    <tr>\n      <th>8</th>\n      <td>$199,900</td>\n      <td>1344 Teton Street</td>\n      <td>Rock Springs, WY 82901</td>\n      <td>3</td>\n      <td>2</td>\n      <td>None</td>\n      <td>1,920</td>\n      <td>Under 1/2 Acre,</td>\n    </tr>\n    <tr>\n      <th>9</th>\n      <td>$196,900</td>\n      <td>4 Minnies Lane</td>\n      <td>Rock Springs, WY 82901</td>\n      <td>3</td>\n      <td>2</td>\n      <td>None</td>\n      <td>1,664</td>\n      <td>2.02 Acres</td>\n    </tr>\n    <tr>\n      <th>10</th>\n      <td>$1,700,000</td>\n      <td>9339 Sd 26900</td>\n      <td>Rocksprings, TX 78880</td>\n      <td>None</td>\n      <td>None</td>\n      <td>None</td>\n      <td>2,560</td>\n      <td>NaN</td>\n    </tr>\n    <tr>\n      <th>11</th>\n      <td>$1,100,000</td>\n      <td>RR674P13 Hwy 377</td>\n      <td>Rocksprings, TX 78880</td>\n      <td>None</td>\n      <td>None</td>\n      <td>None</td>\n      <td>2,000</td>\n      <td>NaN</td>\n    </tr>\n    <tr>\n      <th>12</th>\n      <td>$1,080,000</td>\n      <td>0 Hwy 41</td>\n      <td>Rocksprings, TX 78880</td>\n      <td>None</td>\n      <td>None</td>\n      <td>None</td>\n      <td>None</td>\n      <td>NaN</td>\n    </tr>\n    <tr>\n      <th>13</th>\n      <td>$908,350</td>\n      <td>9339 Sd 26900</td>\n      <td>Rocksprings, TX 78880</td>\n      <td>None</td>\n      <td>None</td>\n      <td>None</td>\n      <td>2,560</td>\n      <td>NaN</td>\n    </tr>\n    <tr>\n      <th>14</th>\n      <td>$905,000</td>\n      <td>CR450 Hwy 377</td>\n      <td>Rocksprings, TX 78880</td>\n      <td>None</td>\n      <td>None</td>\n      <td>None</td>\n      <td>None</td>\n      <td>NaN</td>\n    </tr>\n    <tr>\n      <th>15</th>\n      <td>$695,000</td>\n      <td>Cr 240 Cr 240</td>\n      <td>Rocksprings, TX 78880</td>\n      <td>None</td>\n      <td>None</td>\n      <td>None</td>\n      <td>1,398</td>\n      <td>NaN</td>\n    </tr>\n    <tr>\n      <th>16</th>\n      <td>$605,000</td>\n      <td>RR674 Hwy 377</td>\n      <td>Rocksprings, TX 78880</td>\n      <td>None</td>\n      <td>None</td>\n      <td>None</td>\n      <td>1,738</td>\n      <td>NaN</td>\n    </tr>\n    <tr>\n      <th>17</th>\n      <td>$559,805</td>\n      <td>9770a Sd 26900</td>\n      <td>Rocksprings, TX 78880</td>\n      <td>None</td>\n      <td>None</td>\n      <td>None</td>\n      <td>1,080</td>\n      <td>NaN</td>\n    </tr>\n    <tr>\n      <th>18</th>\n      <td>$504,000</td>\n      <td>Lot17 CR 2630</td>\n      <td>Rocksprings, TX 78880</td>\n      <td>None</td>\n      <td>None</td>\n      <td>None</td>\n      <td>None</td>\n      <td>NaN</td>\n    </tr>\n    <tr>\n      <th>19</th>\n      <td>$410,000</td>\n      <td>Tr12,16 CR 520</td>\n      <td>Rocksprings, TX 78880</td>\n      <td>None</td>\n      <td>None</td>\n      <td>None</td>\n      <td>None</td>\n      <td>NaN</td>\n    </tr>\n    <tr>\n      <th>20</th>\n      <td>$299,900</td>\n      <td>32575 S Shadow Mountain Road</td>\n      <td>Black Canyon City, AZ 85324</td>\n      <td>3</td>\n      <td>2</td>\n      <td>None</td>\n      <td>2,318</td>\n      <td>NaN</td>\n    </tr>\n    <tr>\n      <th>21</th>\n      <td>$167,500</td>\n      <td>32750 S Shangrila Drive</td>\n      <td>Black Canyon City, AZ 85324</td>\n      <td>3</td>\n      <td>2</td>\n      <td>None</td>\n      <td>2,120</td>\n      <td>NaN</td>\n    </tr>\n    <tr>\n      <th>22</th>\n      <td>$150,000</td>\n      <td>0000 Black Canyon Highway</td>\n      <td>Black Canyon City, AZ 85324</td>\n      <td>None</td>\n      <td>None</td>\n      <td>None</td>\n      <td>None</td>\n      <td>5 Acres</td>\n    </tr>\n    <tr>\n      <th>23</th>\n      <td>$129,500</td>\n      <td>34775 S CHOLLA Drive</td>\n      <td>Black Canyon City, AZ 85324</td>\n      <td>3</td>\n      <td>2</td>\n      <td>None</td>\n      <td>1,220</td>\n      <td>NaN</td>\n    </tr>\n    <tr>\n      <th>24</th>\n      <td>$129,000</td>\n      <td>33403 S. HA-WA-SI TERRACE</td>\n      <td>BLACK CANYON CITY, AZ 85324</td>\n      <td>4</td>\n      <td>2</td>\n      <td>None</td>\n      <td>2,000</td>\n      <td>NaN</td>\n    </tr>\n    <tr>\n      <th>25</th>\n      <td>$80,000</td>\n      <td>34263 S Bertha Street</td>\n      <td>Black Canyon City, AZ 85324</td>\n      <td>5</td>\n      <td>2</td>\n      <td>None</td>\n      <td>2,260</td>\n      <td>NaN</td>\n    </tr>\n    <tr>\n      <th>26</th>\n      <td>$77,900</td>\n      <td>33160 S Canyon Road</td>\n      <td>Black Canyon City, AZ 85324</td>\n      <td>3</td>\n      <td>2</td>\n      <td>None</td>\n      <td>1,248</td>\n      <td>NaN</td>\n    </tr>\n    <tr>\n      <th>27</th>\n      <td>$70,500</td>\n      <td>19421 E Todd Evans Road</td>\n      <td>Black Canyon City, AZ 85324</td>\n      <td>3</td>\n      <td>2</td>\n      <td>None</td>\n      <td>1,404</td>\n      <td>NaN</td>\n    </tr>\n    <tr>\n      <th>28</th>\n      <td>$70,000</td>\n      <td>18688 E AGUA Vista</td>\n      <td>Black Canyon City, AZ 85324</td>\n      <td>None</td>\n      <td>None</td>\n      <td>None</td>\n      <td>None</td>\n      <td>0.7 Acres</td>\n    </tr>\n    <tr>\n      <th>29</th>\n      <td>$67,500</td>\n      <td>50600 N Old Black Canyon Road</td>\n      <td>Black Canyon City, AZ 85324</td>\n      <td>None</td>\n      <td>None</td>\n      <td>None</td>\n      <td>None</td>\n      <td>3 Acres</td>\n    </tr>\n    <tr>\n      <th>30</th>\n      <td>$54,900</td>\n      <td>20101 E SQUAW VALLEY Road</td>\n      <td>Black Canyon City, AZ 85324</td>\n      <td>None</td>\n      <td>None</td>\n      <td>None</td>\n      <td>None</td>\n      <td>NaN</td>\n    </tr>\n    <tr>\n      <th>31</th>\n      <td>$45,600</td>\n      <td>33259 S Canyon Road</td>\n      <td>Black Canyon City, AZ 85324</td>\n      <td>3</td>\n      <td>1</td>\n      <td>None</td>\n      <td>1,056</td>\n      <td>NaN</td>\n    </tr>\n    <tr>\n      <th>32</th>\n      <td>$40,000</td>\n      <td>34558 S ROADRUNNER RD</td>\n      <td>Black Canyon City, AZ 85324</td>\n      <td>2</td>\n      <td>1</td>\n      <td>None</td>\n      <td>784</td>\n      <td>Under 1/2 Acre</td>\n    </tr>\n    <tr>\n      <th>33</th>\n      <td>$30,000</td>\n      <td>19260 E Scenic Loop Road</td>\n      <td>Black Canyon City, AZ 85324</td>\n      <td>None</td>\n      <td>None</td>\n      <td>None</td>\n      <td>None</td>\n      <td>2.35 Acres</td>\n    </tr>\n    <tr>\n      <th>34</th>\n      <td>$29,000</td>\n      <td>19000 E MAREN Avenue</td>\n      <td>Black Canyon City, AZ 85324</td>\n      <td>None</td>\n      <td>None</td>\n      <td>None</td>\n      <td>None</td>\n      <td>2.05 Acres</td>\n    </tr>\n    <tr>\n      <th>35</th>\n      <td>$28,995</td>\n      <td>19350 E SAGUARO Drive</td>\n      <td>Black Canyon City, AZ 85324</td>\n      <td>None</td>\n      <td>None</td>\n      <td>None</td>\n      <td>None</td>\n      <td>0.73 Acres</td>\n    </tr>\n    <tr>\n      <th>36</th>\n      <td>$15,000</td>\n      <td>20650 E Amethyst Place</td>\n      <td>Black Canyon City, AZ 85324</td>\n      <td>None</td>\n      <td>None</td>\n      <td>None</td>\n      <td>None</td>\n      <td>0.31 Acres</td>\n    </tr>\n  </tbody>\n</table>\n</div>"
     },
     "execution_count": 7,
     "metadata": {},
     "output_type": "execute_result"
    }
   ],
   "source": [
    "base_url=\"https://pythonizing.github.io/data/real-estate/rock-springs-wy/LCWYROCKSPRINGS/t=0&s=\"\n",
    "\n",
    "page_nr=soup.find_all(\"a\",{\"class\":\"Page\"})[-1].text\n",
    "\n",
    "l=[]\n",
    "\n",
    "for page in range(0,int(page_nr)*10,10):\n",
    "    print(base_url+str(page))\n",
    "    r=requests.get(base_url+str(page))\n",
    "    c=r.content\n",
    "    soup=BS(c, \"html.parser\")\n",
    "    all=soup.find_all(\"div\",{\"class\":\"propertyRow\"})\n",
    "\n",
    "\n",
    "    for item in all:\n",
    "        dy={}\n",
    "        dy[\"Price\"]=item.find(\"h4\",{\"class\":\"propPrice\"}).text.replace(\" \", \"\").replace(\"\\n\",\"\")\n",
    "        dy[\"Address\"]=item.find_all(\"span\",{\"class\":\"propAddressCollapse\"})[0].text\n",
    "        dy[\"Locality\"]=item.find_all(\"span\",{\"class\":\"propAddressCollapse\"})[1].text\n",
    "        try:\n",
    "            dy[\"Beds\"]=item.find(\"span\",{\"class\":\"infoBed\"}).find(\"b\").text\n",
    "        except:\n",
    "            dy[\"Beds\"]=None\n",
    "        try:\n",
    "            dy[\"FullBath\"]=item.find(\"span\", {\"class\": \"infoValueFullBath\"}).find(\"b\").text\n",
    "        except:\n",
    "            dy[\"FullBath\"]=None\n",
    "        try:\n",
    "            dy[\"HalfBath\"]=item.find(\"span\", {\"class\": \"infoValueHalfBath\"}).find(\"b\").text\n",
    "        except:\n",
    "            dy[\"HalfBath\"]=None\n",
    "        try:\n",
    "            dy[\"SqFt\"]=item.find(\"span\",{\"class\":\"infoSqFt\"}).find(\"b\").text\n",
    "        except:\n",
    "            dy[\"SqFt\"]=None\n",
    "\n",
    "        for column_group in item.find_all(\"div\", {\"class\": \"columnGroup\"}):\n",
    "            for feature_group, feature_name in zip(column_group.find_all(\"span\",{\"class\":\"featureGroup\"}),column_group.find_all(\"span\",{\"class\":\"featureName\"})):\n",
    "                #print(feature_group.text, feature_name.text)\n",
    "                if \"Lot Size\" in feature_group.text:\n",
    "                    dy[\"LotSize\"]=feature_name.text\n",
    "\n",
    "        l.append(dy)\n",
    "\n",
    "df=pandas.DataFrame(l)\n",
    "df\n",
    "\n",
    "\n",
    "\n",
    "\n",
    "\n"
   ],
   "metadata": {
    "collapsed": false,
    "pycharm": {
     "name": "#%%\n"
    }
   }
  }
 ],
 "metadata": {
  "kernelspec": {
   "display_name": "Python 3 (ipykernel)",
   "language": "python",
   "name": "python3"
  },
  "language_info": {
   "codemirror_mode": {
    "name": "ipython",
    "version": 3
   },
   "file_extension": ".py",
   "mimetype": "text/x-python",
   "name": "python",
   "nbconvert_exporter": "python",
   "pygments_lexer": "ipython3",
   "version": "3.10.2"
  }
 },
 "nbformat": 4,
 "nbformat_minor": 5
}